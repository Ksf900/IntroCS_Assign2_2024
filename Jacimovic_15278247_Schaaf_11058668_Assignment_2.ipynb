{
 "cells": [
  {
   "cell_type": "markdown",
   "metadata": {},
   "source": [
    "# Assignment 2: Spatial Models - Networks"
   ]
  },
  {
   "cell_type": "markdown",
   "metadata": {},
   "source": [
    "### Aleksandar Jacimovic, id: 15278247,  Kevin Schaaf 11058668"
   ]
  },
  {
   "cell_type": "code",
   "execution_count": 3,
   "metadata": {},
   "outputs": [],
   "source": [
    "import csv\n",
    "import glob\n",
    "import numpy as np\n",
    "import matplotlib.pyplot as plt\n",
    "import matplotlib.patches as mpatches\n",
    "import networkx as nx\n",
    "import ndlib\n",
    "import ndlib.models.epidemics as ep\n",
    "import os\n",
    "import pandas as pd\n",
    "import scipy\n",
    "from scipy.integrate import odeint     \n",
    "from scipy.optimize import minimize\n",
    "import statsmodels as sm\n",
    "import sympy as sp"
   ]
  },
  {
   "cell_type": "markdown",
   "metadata": {},
   "source": [
    "## Problem 1: Gillespie’s Direct Algorithm and Stochastic Hallmarks"
   ]
  },
  {
   "cell_type": "markdown",
   "metadata": {},
   "source": [
    "The following code incorporates # Gillespie's Direct Algorithm as well as the standard deterministic model."
   ]
  },
  {
   "cell_type": "markdown",
   "metadata": {},
   "source": [
    "First, we write a function to solve the differential equations corresponding to the SIR model with demography and where SIRN = the current state-variable, t = time, beta = transmission rate, gamma = recovery rate, mu = birth and death rate"
   ]
  },
  {
   "cell_type": "code",
   "execution_count": 118,
   "metadata": {},
   "outputs": [],
   "source": [
    "def my_ode_11(SIRN, t, beta, gamma, mu):\n",
    "    S, I, R, N = SIRN\n",
    "    dSdt = mu*N -beta*S*I/N - mu*S\n",
    "    dIdt = beta*S*I/N - gamma*I - mu*I\n",
    "    dRdt = gamma*I - mu*R\n",
    "    return [dSdt, dIdt, dRdt, 0]"
   ]
  },
  {
   "cell_type": "markdown",
   "metadata": {},
   "source": [
    "Next, we set the parameters and conditions"
   ]
  },
  {
   "cell_type": "code",
   "execution_count": 4,
   "metadata": {},
   "outputs": [],
   "source": [
    "beta_11 = 1.8\n",
    "gamma_11 = 0.1\n",
    "mu_11 = 0.02\n",
    "N = 10000 #Size of the population\n",
    "\n",
    "X_0 = 0.8*N\n",
    "Y_0 = 0.2*N\n",
    "Z_0 = 0\n",
    "\n",
    "SIRN0_11 = [X_0, Y_0, Z_0, N] # Make sure that these elements are integers since they represent the number of persons in that category. \n",
    "\n",
    "t_0 = 0\n",
    "t_final = 100\n",
    "t = np.linspace(t_0, t_final, 100)"
   ]
  },
  {
   "cell_type": "code",
   "execution_count": 5,
   "metadata": {},
   "outputs": [],
   "source": [
    "solution_11 = odeint(my_ode_11, SIRN0_11, t, args=(beta_11, gamma_11, mu_11))\n",
    "S_solution_11, I_solution_11, R_solution_11, N_solution_11 = solution_11.T"
   ]
  },
  {
   "cell_type": "markdown",
   "metadata": {},
   "source": [
    "Gillespie's Direct Algorithm: box 6.3 on page 201 of the KR book"
   ]
  },
  {
   "cell_type": "code",
   "execution_count": 6,
   "metadata": {},
   "outputs": [],
   "source": [
    "#step 1: label all possible events\n",
    "events = ['births', 'transmission', 'recovery', 'death_in_S', 'death_in_I', 'death_in_R']       \n",
    "# counter = 0  #counts the number of events that have occured\n",
    "time = [0]\n",
    "X = [0.8*N]\n",
    "Y = [0.2*N]\n",
    "Z = [0*N]\n",
    "\n",
    "while time[-1] < t_final:\n",
    "    current_X = X[-1]\n",
    "    current_Y = Y[-1]\n",
    "    current_Z = Z[-1]\n",
    "    current_time = time[-1]\n",
    "    #step 2: determine the rate at which each event occurs\n",
    "    event_rates = np.array([mu_11*N, \n",
    "                            beta_11*current_X*current_Y/N, \n",
    "                            gamma_11*current_Y, \n",
    "                            mu_11*current_X, \n",
    "                            mu_11*current_Y, \n",
    "                            mu_11*current_Z])\n",
    "    #step 3: the rate at which any event occurs\n",
    "    rate_sum = np.sum(event_rates) \n",
    "    #step 4: the time until the next event\n",
    "    delta_t = -1/rate_sum * np.log(1-np.random.uniform(0,1))  \n",
    "    #step 5: generate a new random number\n",
    "    p = np.random.uniform(0,1) * rate_sum                                                      \n",
    "    time.append(current_time + delta_t)  \n",
    "    \n",
    "    if current_Y == 0 and Y[-2] != 0:\n",
    "        print(f'extinction at time = {time[-1]}')                                                  \n",
    "    if 0 <= p and p <= np.sum(event_rates[:1]):\n",
    "        X.append(current_X + 1)\n",
    "        Y.append(current_Y)\n",
    "        Z.append(current_Z)\n",
    "    elif np.sum(event_rates[:1]) < p and p <= np.sum(event_rates[:2]):\n",
    "        Y.append(current_Y + 1)\n",
    "        X.append(current_X - 1)\n",
    "        Z.append(current_Z)\n",
    "    elif np.sum(event_rates[:2]) < p and p <= np.sum(event_rates[:3]):\n",
    "        X.append(current_X)\n",
    "        Y.append(current_Y - 1)\n",
    "        Z.append(current_Z + 1)\n",
    "    elif np.sum(event_rates[:3]) < p and p <= np.sum(event_rates[:4]):\n",
    "        X.append(current_X - 1)\n",
    "        Y.append(current_Y)\n",
    "        Z.append(current_Z)\n",
    "    elif np.sum(event_rates[:4]) < p and p <= np.sum(event_rates[:5]):\n",
    "        X.append(current_X)\n",
    "        Y.append(current_Y - 1)\n",
    "        Z.append(current_Z)\n",
    "    elif np.sum(event_rates[:5]) < p and p <= np.sum(event_rates[:6]):\n",
    "        X.append(current_X)\n",
    "        Y.append(current_Y)\n",
    "        Z.append(current_Z - 1)        "
   ]
  },
  {
   "cell_type": "code",
   "execution_count": 7,
   "metadata": {},
   "outputs": [],
   "source": [
    "# define colors\n",
    "blues = ['blue', '#6699FF']  # standard blue and light blue \n",
    "reds = ['red', '#FF6666']    # standard red and light red \n",
    "greens = ['green', '#90EE90']  # standard yellow and light yellow "
   ]
  },
  {
   "cell_type": "code",
   "execution_count": null,
   "metadata": {},
   "outputs": [],
   "source": [
    "plt.figure(figsize=(10, 6))\n",
    "\n",
    "# stochastic (darker)\n",
    "plt.plot(time, X, label='S', color = blues[0])\n",
    "plt.plot(time, Y, label='I', color = reds[0])\n",
    "plt.plot(time, Z, label='R', color = greens[0])\n",
    "\n",
    "# deterministic (lighter)\n",
    "plt.plot(t, S_solution_11, color = blues[1])\n",
    "plt.plot(t, I_solution_11, color = reds[1])\n",
    "plt.plot(t, R_solution_11, color = greens[1])\n",
    "\n",
    "plt.xlabel('Time')\n",
    "plt.ylabel('Population Size')\n",
    "plt.title(fr'SIR Development over Time. $\\beta$={beta_11}, $\\gamma$={gamma_11}, $\\mu$={mu_11}, $R_0$ = {beta_11/(gamma_11+mu_11)}, N={N}, {chr(10)} stochastic outcomes given in darker shades')\n",
    "plt.legend()\n",
    "plt.grid()\n",
    "plt.show()"
   ]
  },
  {
   "cell_type": "markdown",
   "metadata": {},
   "source": [
    "The deterministic model relatively quickly reaches the equillibrium. Meanwhile, in a stochastic model that convergence to lower values of indfectious individual could take longer. Additionally, due to death and birth rates, the susceptible pool can grow and the recovered pool can decrease - potentially leading to new spikes in the epidemic. \n",
    "\n",
    "The code incorporates the time determination if an extinction occures. Once an extintion is printed, another epidemic would not be possible. "
   ]
  },
  {
   "cell_type": "markdown",
   "metadata": {},
   "source": [
    "### Experiment 1: Variability and Covariance"
   ]
  },
  {
   "cell_type": "markdown",
   "metadata": {},
   "source": [
    "In the next section we investigate the influence of varying the model parameters (beta, gamma and mu) on the stochastic behaviour of the model. We are particularly interested in the variance between runs and the covariance between S and I within runs. We will also be comparing the mean of the stochastic simulations with the deterministic output. "
   ]
  },
  {
   "cell_type": "code",
   "execution_count": 9,
   "metadata": {},
   "outputs": [],
   "source": [
    "def gillespie_sir(beta, gamma, mu, N, max_time):\n",
    "    S = N - 1\n",
    "    I = 1\n",
    "    R = 0\n",
    "    t = 0\n",
    "    S_data, I_data, R_data, time_data = [S], [I], [R], [t]\n",
    "\n",
    "    while t < max_time and I > 0:\n",
    "        #step 2: determine the rate at which each event occurs\n",
    "        rate_birth = mu * N\n",
    "        rate_transmission = beta * S * I / N\n",
    "        rate_recovery = gamma * I\n",
    "        rate_death_in_S = mu * S\n",
    "        rate_death_in_I = mu * I\n",
    "        rate_death_in_R = mu * R\n",
    "        #step 3: the rate at which any event occurs\n",
    "        rates_sum = (rate_birth + rate_transmission + rate_recovery +\n",
    "                     rate_death_in_S + rate_death_in_I + rate_death_in_R)\n",
    "        #step 4: the time until the next event\n",
    "        t += -np.log(np.random.random()) / rates_sum # -1/rate_sum * np.log(1-np.random.uniform(0,1))  \n",
    "        #step 5: generate a new random number\n",
    "        rand = np.random.random() * rates_sum\n",
    "        # step 6: occurence of event p \n",
    "        if rand < rate_birth:\n",
    "            S += 1\n",
    "        elif rand < rate_birth + rate_transmission:\n",
    "            S -= 1\n",
    "            I += 1\n",
    "        elif rand < rate_birth + rate_transmission + rate_recovery:\n",
    "            I -= 1\n",
    "            R += 1\n",
    "        elif rand < rate_birth + rate_transmission + rate_recovery + rate_death_in_S:\n",
    "            S -= 1\n",
    "        elif rand < rate_birth + rate_transmission + rate_recovery + rate_death_in_S + rate_death_in_I:\n",
    "            I -= 1\n",
    "        else:\n",
    "            R -= 1\n",
    "\n",
    "        S_data.append(S)\n",
    "        I_data.append(I)\n",
    "        R_data.append(R)\n",
    "        time_data.append(t)\n",
    "\n",
    "    return np.array(S_data), np.array(I_data), np.array(R_data), np.array(time_data)\n"
   ]
  },
  {
   "cell_type": "code",
   "execution_count": 10,
   "metadata": {},
   "outputs": [],
   "source": [
    "# set up parameter ranges\n",
    "beta_values = np.linspace(0.1, 3.0, 50)  # infection rate\n",
    "gamma_values = np.linspace(0.1, 1.0, 20)  # recovery rate\n",
    "mu_values = np.linspace(0.01, 0.1, 10)  # birth/death rate\n",
    "iterations = 10  # number of iterations per parameter combination\n",
    "N = 1000  # total population\n",
    "max_time = 200  # maximum simulation time"
   ]
  },
  {
   "cell_type": "code",
   "execution_count": 11,
   "metadata": {},
   "outputs": [],
   "source": [
    "# collect statistics for each parameter combination\n",
    "time_series_data_deterministic = []\n",
    "time_series_data_stochastic = []\n",
    "results = []\n",
    "\n",
    "for beta in beta_values:\n",
    "    for gamma in gamma_values:\n",
    "        for mu in mu_values:\n",
    "            \n",
    "            X_0 = N-1\n",
    "            Y_0 = 1\n",
    "            Z_0 = 0\n",
    "            SIRN_0 = [X_0, Y_0, Z_0, N] \n",
    "            \n",
    "            t = np.linspace(0, max_time, max_time)\n",
    "            \n",
    "            det_solution = odeint(my_ode_11, SIRN_0, t, args=(beta, gamma, mu))    \n",
    "            S_solution, I_solution, R_solution, N_solution = det_solution.T\n",
    "            \n",
    "            # make sure the data arrays are all of the length max_time\n",
    "            len_diff = max_time - len(S_solution)\n",
    "            if len_diff > 0:\n",
    "               # extend the arrays if too short\n",
    "                S_solution = np.pad(S_solution, (0, len_diff), 'constant', constant_values=(S_solution[-1],))\n",
    "                I_solution = np.pad(I_solution, (0, len_diff), 'constant', constant_values=(I_solution[-1],))\n",
    "                R_solution = np.pad(R_solution, (0, len_diff), 'constant', constant_values=(R_solution[-1],))\n",
    "            elif len_diff < 0:\n",
    "                # cut if they too long\n",
    "                S_solution = S_solution[:max_time]\n",
    "                I_solution = I_solution[:max_time]\n",
    "                R_solution = R_solution[:max_time]\n",
    "            \n",
    "            S_agg = np.zeros(max_time)\n",
    "            I_agg = np.zeros(max_time)\n",
    "            R_agg = np.zeros(max_time)\n",
    "            \n",
    "            variance_S = []\n",
    "            std_S = []\n",
    "            variance_I = []\n",
    "            std_I = []\n",
    "            covariances_SI = []\n",
    "            \n",
    "            for iteration in range(iterations):\n",
    "                S_data, I_data, R_data, time_data = gillespie_sir(beta, gamma, mu, N, max_time)\n",
    "                \n",
    "                # make sure the data arrays are all of the length max_time\n",
    "                len_diff = max_time - len(S_data)\n",
    "                if len_diff > 0:\n",
    "                    # extend the arrays if too short\n",
    "                    S_data = np.pad(S_data, (0, len_diff), 'constant', constant_values=(S_data[-1],))\n",
    "                    I_data = np.pad(I_data, (0, len_diff), 'constant', constant_values=(I_data[-1],))\n",
    "                    R_data = np.pad(R_data, (0, len_diff), 'constant', constant_values=(R_data[-1],))\n",
    "                    time_data = np.pad(time_data, (0, len_diff), 'constant', constant_values=(time_data[-1],))\n",
    "                elif len_diff < 0:\n",
    "                    # cut if they too long\n",
    "                    S_data = S_data[:max_time]\n",
    "                    I_data = I_data[:max_time]\n",
    "                    R_data = R_data[:max_time]\n",
    "                    time_data = time_data[:max_time]\n",
    "\n",
    "                S_agg += S_data\n",
    "                I_agg += I_data\n",
    "                R_agg += R_data\n",
    "                \n",
    "                variance_S.append(np.var(S_data))\n",
    "                std_S.append(np.std(S_data))\n",
    "                variance_I.append(np.var(I_data))\n",
    "                std_I.append(np.std(I_data))\n",
    "                covariances_SI.append(np.cov(S_data, I_data)[0, 1])\n",
    "            \n",
    "            # calculate means\n",
    "            S_mean = S_agg / iterations\n",
    "            I_mean = I_agg / iterations\n",
    "            R_mean = R_agg / iterations\n",
    "            \n",
    "            # append to the list\n",
    "            time_series_data_deterministic.append({\n",
    "                'beta': beta,\n",
    "                'gamma': gamma,\n",
    "                'mu': mu,\n",
    "                'S_solution': S_solution,\n",
    "                'I_solution': I_solution,\n",
    "                'R_solution': R_solution,\n",
    "                'time': time_data\n",
    "            })\n",
    "            \n",
    "            time_series_data_stochastic.append({\n",
    "                'beta': beta,\n",
    "                'gamma': gamma,\n",
    "                'mu': mu,\n",
    "                'S_mean': S_mean,\n",
    "                'I_mean': I_mean,\n",
    "                'R_mean': R_mean,\n",
    "                'time': time_data\n",
    "            })\n",
    "            \n",
    "            # calculate variable means across parameter iterations\n",
    "            mean_variance_S = np.mean(variance_S)\n",
    "            mean_std_S = np.mean(std_S)\n",
    "            mean_variance_I = np.mean(variance_I)\n",
    "            mean_std_I = np.mean(std_I)\n",
    "            mean_covariance_SI = np.mean(covariances_SI)\n",
    "            # results\n",
    "            results.append({\n",
    "                'beta': beta,\n",
    "                'gamma': gamma,\n",
    "                'mu': mu,\n",
    "                'mean_variance_S': mean_variance_S, \n",
    "                'mean_std_S': mean_std_S, \n",
    "                'mean_variance_I': mean_variance_I, \n",
    "                'mean_std_I': mean_std_I, \n",
    "                'mean_covariance_SI': mean_covariance_SI\n",
    "            })"
   ]
  },
  {
   "cell_type": "code",
   "execution_count": 12,
   "metadata": {},
   "outputs": [],
   "source": [
    "# convert the results to a df\n",
    "df_deterministic = pd.DataFrame(time_series_data_deterministic)\n",
    "df_stochastic = pd.DataFrame(time_series_data_stochastic)\n",
    "df_results = pd.DataFrame(results)\n",
    "\n",
    "# calculate R0s\n",
    "df_results['R0'] = df_results['beta'] / (df_results['gamma'] + df_results['mu'])"
   ]
  },
  {
   "cell_type": "code",
   "execution_count": null,
   "metadata": {},
   "outputs": [],
   "source": [
    "display(df_deterministic)"
   ]
  },
  {
   "cell_type": "code",
   "execution_count": null,
   "metadata": {},
   "outputs": [],
   "source": [
    "display(df_stochastic)"
   ]
  },
  {
   "cell_type": "markdown",
   "metadata": {},
   "source": [
    "Find the parameters with the best and the worst fits between the deterministic and mean stochastic outcome"
   ]
  },
  {
   "cell_type": "code",
   "execution_count": 18,
   "metadata": {},
   "outputs": [],
   "source": [
    "from sklearn.metrics import mean_squared_error"
   ]
  },
  {
   "cell_type": "code",
   "execution_count": 37,
   "metadata": {},
   "outputs": [],
   "source": [
    "det_t = df_deterministic[(df_deterministic['beta'] == beta) & \n",
    "                         (df_deterministic['gamma'] == gamma) & \n",
    "                         (df_deterministic['mu'] == mu)]\n",
    "stoch_t = df_stochastic[(df_stochastic['beta'] == beta) & \n",
    "                        (df_stochastic['gamma'] == gamma) & \n",
    "                        (df_stochastic['mu'] == mu)]"
   ]
  },
  {
   "cell_type": "code",
   "execution_count": null,
   "metadata": {},
   "outputs": [],
   "source": [
    "display(det_t)"
   ]
  },
  {
   "cell_type": "code",
   "execution_count": null,
   "metadata": {},
   "outputs": [],
   "source": [
    "display(stoch_t)"
   ]
  },
  {
   "cell_type": "code",
   "execution_count": 19,
   "metadata": {},
   "outputs": [],
   "source": [
    "# compute the MSE for each parameter set\n",
    "for item in results:\n",
    "    beta = item['beta']\n",
    "    gamma = item['gamma']\n",
    "    mu = item['mu']\n",
    "    \n",
    "    # filter the deterministic and stochastic data for the current set of parameters\n",
    "    det = df_deterministic[(df_deterministic['beta'] == beta) & \n",
    "                           (df_deterministic['gamma'] == gamma) & \n",
    "                           (df_deterministic['mu'] == mu)]\n",
    "    stoch = df_stochastic[(df_stochastic['beta'] == beta) & \n",
    "                          (df_stochastic['gamma'] == gamma) & \n",
    "                          (df_stochastic['mu'] == mu)]\n",
    "    \n",
    "    # compute MSE for S and I between deterministic and stochastic models\n",
    "    mse_S = mean_squared_error(det['S_solution'].values[0], stoch['S_mean'].values[0])\n",
    "    mse_I = mean_squared_error(det['I_solution'].values[0], stoch['I_mean'].values[0])\n",
    "    \n",
    "    # update the results dictionary with the MSE values\n",
    "    item['mse_S'] = mse_S\n",
    "    item['mse_I'] = mse_I"
   ]
  },
  {
   "cell_type": "code",
   "execution_count": null,
   "metadata": {},
   "outputs": [],
   "source": [
    "# sort the results by the sum of mse_S and mse_I to find the lowest and highest MSE\n",
    "results_sorted = sorted(results, key=lambda x: (x['mse_S'] + x['mse_I']))\n",
    "lowest_mse = results_sorted[0]\n",
    "highest_mse = results_sorted[-1]"
   ]
  },
  {
   "cell_type": "code",
   "execution_count": 67,
   "metadata": {},
   "outputs": [],
   "source": [
    "df_results_updated = pd.DataFrame(results)\n",
    "# calculate R0s\n",
    "df_results_updated['R0'] = df_results_updated['beta'] / (df_results_updated['gamma'] + df_results_updated['mu'])\n",
    "df_results_updated['MSE_sum'] = df_results_updated['mse_S']+df_results_updated['mse_I']"
   ]
  },
  {
   "cell_type": "code",
   "execution_count": null,
   "metadata": {},
   "outputs": [],
   "source": [
    "display(df_results_updated)"
   ]
  },
  {
   "cell_type": "code",
   "execution_count": null,
   "metadata": {},
   "outputs": [],
   "source": [
    "# calculate the max value of R_0 considered across all parametrisations \n",
    "max(df_results_updated['R0'])"
   ]
  },
  {
   "cell_type": "markdown",
   "metadata": {},
   "source": [
    "#### Plotting"
   ]
  },
  {
   "cell_type": "code",
   "execution_count": null,
   "metadata": {},
   "outputs": [],
   "source": [
    "# divergence between S and I for various values of beta based on the sum of MSE(S) and MSE(I)\n",
    "plt.figure(figsize=(10, 8))\n",
    "df_beta = df_results_updated.groupby('beta')['MSE_sum'].mean().reset_index()\n",
    "plt.plot(df_beta['beta'], df_beta['MSE_sum'], marker='o')\n",
    "plt.xlabel('Infection Rate')\n",
    "plt.ylabel(fr'Sum of Mean Square Errors (MSE) {chr(10)} between Average Stochastic and Deterministic Outcomes')\n",
    "plt.title(fr'MSE(I)+MSE(S) vs $\\beta$')\n",
    "plt.grid(True)\n",
    "plt.show()"
   ]
  },
  {
   "cell_type": "code",
   "execution_count": null,
   "metadata": {},
   "outputs": [],
   "source": [
    "# divergence between S and I for various values of gamma based on the sum of MSE(S) and MSE(I)\n",
    "plt.figure(figsize=(10, 8))\n",
    "df_gamma = df_results_updated.groupby('gamma')['MSE_sum'].mean().reset_index()\n",
    "plt.plot(df_gamma['gamma'], df_gamma['MSE_sum'], marker='o')\n",
    "plt.xlabel('Recovery Rate')\n",
    "plt.ylabel(fr'Sum of Mean Square Errors (MSE) {chr(10)} between Average Stochastic and Deterministic Outcomes')\n",
    "plt.title(fr'MSE(I)+MSE(S) vs $\\gamma$')\n",
    "plt.grid(True)\n",
    "plt.show()"
   ]
  },
  {
   "cell_type": "code",
   "execution_count": null,
   "metadata": {},
   "outputs": [],
   "source": [
    "# divergence between S and I for various values of mu based on the sum of MSE(S) and MSE(I)\n",
    "plt.figure(figsize=(10, 8))\n",
    "df_mu = df_results_updated.groupby('mu')['MSE_sum'].mean().reset_index()\n",
    "plt.plot(df_mu['mu'], df_mu['MSE_sum'], marker='o')\n",
    "plt.xlabel('Birth / Death Rate')\n",
    "plt.ylabel(fr'Sum of Mean Square Errors (MSE) {chr(10)} between Average Stochastic and Deterministic Outcomes')\n",
    "plt.title(fr'MSE(I)+MSE(S) vs $\\mu$')\n",
    "plt.grid(True)\n",
    "plt.show()"
   ]
  },
  {
   "cell_type": "code",
   "execution_count": 84,
   "metadata": {},
   "outputs": [],
   "source": [
    "# plot the comparison cases between stochastic and deterministic \n",
    "def plot_sir_comparison(det, stoch, title):\n",
    "    min_length = min(len(det['time']), len(stoch['time']))\n",
    "    time = det['time'][:min_length]\n",
    "    S_det = det['S_solution'][:min_length]\n",
    "    I_det = det['I_solution'][:min_length]\n",
    "    R_det = det['R_solution'][:min_length]\n",
    "    S_stoch = stoch['S_mean'][:min_length]\n",
    "    I_stoch = stoch['I_mean'][:min_length]\n",
    "    R_stoch = stoch['R_mean'][:min_length]\n",
    "    \n",
    "    plt.figure(figsize=(12, 6))\n",
    "\n",
    "    # deterministic data\n",
    "    plt.plot(time, S_det, label='S (Deterministic)', color= blues[1])\n",
    "    plt.plot(time, I_det, label='I (Deterministic)', color= reds[1])\n",
    "    plt.plot(time, R_det, label='R (Deterministic)', color= greens[1])\n",
    "\n",
    "    # stochastic data\n",
    "    plt.plot(time, S_stoch, label='S (Stochastic)', linestyle='--', color= blues[0])\n",
    "    plt.plot(time, I_stoch, label='I (Stochastic)', linestyle='--', color= reds[0])\n",
    "    plt.plot(time, R_stoch, label='R (Stochastic)', linestyle='--', color= greens[0])\n",
    "\n",
    "    plt.title(title)\n",
    "    plt.xlabel('Time')\n",
    "    plt.ylabel('Population')\n",
    "    plt.legend(loc='center right')\n",
    "    plt.grid(True)\n",
    "    plt.show()"
   ]
  },
  {
   "cell_type": "code",
   "execution_count": null,
   "metadata": {},
   "outputs": [],
   "source": [
    "# Plot for the lowest MSE\n",
    "det_lowest = df_deterministic[(df_deterministic['beta'] == lowest_mse['beta']) & \n",
    "                              (df_deterministic['gamma'] == lowest_mse['gamma']) & \n",
    "                              (df_deterministic['mu'] == lowest_mse['mu'])].iloc[0]\n",
    "stoch_lowest = df_stochastic[(df_stochastic['beta'] == lowest_mse['beta']) & \n",
    "                             (df_stochastic['gamma'] == lowest_mse['gamma']) & \n",
    "                             (df_stochastic['mu'] == lowest_mse['mu'])].iloc[0]\n",
    "plot_sir_comparison(det_lowest, stoch_lowest, 'SIR Model - Deterministic vs. Stochastic (Lowest MSE)')\n",
    "\n",
    "# Plot for the highest MSE\n",
    "det_highest = df_deterministic[(df_deterministic['beta'] == highest_mse['beta']) & \n",
    "                               (df_deterministic['gamma'] == highest_mse['gamma']) & \n",
    "                               (df_deterministic['mu'] == highest_mse['mu'])].iloc[0]\n",
    "stoch_highest = df_stochastic[(df_stochastic['beta'] == highest_mse['beta']) & \n",
    "                               (df_stochastic['gamma'] == highest_mse['gamma']) & \n",
    "                               (df_stochastic['mu'] == highest_mse['mu'])].iloc[0]\n",
    "\n",
    "plot_sir_comparison(det_highest, stoch_highest, 'SIR Model - Deterministic vs. Stochastic (Highest MSE)')"
   ]
  },
  {
   "cell_type": "code",
   "execution_count": null,
   "metadata": {},
   "outputs": [],
   "source": [
    "# parameter set generating the highest MSE sum \n",
    "print(highest_mse['beta'],highest_mse['gamma'],highest_mse['mu'])"
   ]
  },
  {
   "cell_type": "code",
   "execution_count": null,
   "metadata": {},
   "outputs": [],
   "source": [
    "# parameter set generating the lowest MSE sum \n",
    "print(round(lowest_mse['beta'],2),round(lowest_mse['gamma'],2), round(lowest_mse['mu'],2))"
   ]
  },
  {
   "cell_type": "code",
   "execution_count": null,
   "metadata": {},
   "outputs": [],
   "source": [
    "# mean variance in I for various values of R_0\n",
    "plt.figure(figsize=(10, 8))\n",
    "df_R0 = df_results.groupby('R0')['mean_variance_I'].mean().reset_index()\n",
    "plt.plot(df_R0['R0'], df_R0['mean_variance_I'], marker='o')\n",
    "plt.xlabel(fr'Basic Reproduction Number ($R_0$)')\n",
    "plt.ylabel('Mean Variance in I')\n",
    "plt.title(fr'Mean Variance in I vs $R_0$')\n",
    "plt.grid(True)\n",
    "plt.show()"
   ]
  },
  {
   "cell_type": "code",
   "execution_count": null,
   "metadata": {},
   "outputs": [],
   "source": [
    "# mean covariance between S and I for various values of R_0\n",
    "plt.figure(figsize=(10, 8))\n",
    "df_R0 = df_results.groupby('R0')['mean_covariance_SI'].mean().reset_index()\n",
    "plt.plot(df_R0['R0'], df_R0['mean_covariance_SI'], marker='o')\n",
    "plt.xlabel(fr'Basic Reproduction Number ($R_0$)')\n",
    "plt.ylabel('Mean Covariance between S and I')\n",
    "plt.title(fr'Mean Covariance between S and I vs $R_0$')\n",
    "plt.grid(True)\n",
    "plt.show()"
   ]
  },
  {
   "cell_type": "code",
   "execution_count": null,
   "metadata": {},
   "outputs": [],
   "source": [
    "# mean variance in I for each value of beta\n",
    "plt.figure(figsize=(10, 8))\n",
    "df_beta = df_results.groupby('beta')['mean_variance_I'].mean().reset_index()\n",
    "plt.plot(df_beta['beta'], df_beta['mean_variance_I'], marker='o')\n",
    "plt.xlabel(fr'Infection Rate ($\\beta$)')\n",
    "plt.ylabel('Mean Variance in I')\n",
    "plt.title(fr'Mean Variance in I vs $\\beta$')\n",
    "plt.grid(True)\n",
    "plt.show()"
   ]
  },
  {
   "cell_type": "code",
   "execution_count": null,
   "metadata": {},
   "outputs": [],
   "source": [
    "# mean covariance between S and I for each value of beta\n",
    "plt.figure(figsize=(10, 8))\n",
    "df_beta = df_results.groupby('beta')['mean_covariance_SI'].mean().reset_index()\n",
    "plt.plot(df_beta['beta'], df_beta['mean_covariance_SI'], marker='o')\n",
    "plt.xlabel(fr'Infection Rate ($\\beta$)')\n",
    "plt.ylabel('Mean Covariance between S and I')\n",
    "plt.title(fr'Mean Covariance between S and I vs $\\beta$')\n",
    "plt.grid(True)\n",
    "plt.show()"
   ]
  },
  {
   "cell_type": "code",
   "execution_count": null,
   "metadata": {},
   "outputs": [],
   "source": [
    "# mean variance in I for each value of gamma\n",
    "plt.figure(figsize=(10, 8))\n",
    "df_gamma = df_results.groupby('gamma')['mean_variance_I'].mean().reset_index()\n",
    "plt.plot(df_gamma['gamma'], df_gamma['mean_variance_I'], marker='o')\n",
    "plt.xlabel(fr'Recovery Rate ($\\gamma$)')\n",
    "plt.ylabel('Mean Variance in I')\n",
    "plt.title(fr'Mean Variance in I vs $\\gamma$')\n",
    "plt.grid(True)\n",
    "plt.show()"
   ]
  },
  {
   "cell_type": "code",
   "execution_count": null,
   "metadata": {},
   "outputs": [],
   "source": [
    "# mean covariance between S and I for each value of gamma\n",
    "plt.figure(figsize=(10, 8))\n",
    "df_gamma = df_results.groupby('gamma')['mean_covariance_SI'].mean().reset_index()\n",
    "plt.plot(df_gamma['gamma'], df_gamma['mean_covariance_SI'], marker='o')\n",
    "plt.xlabel(fr'Recovery Rate ($\\gamma$)')\n",
    "plt.ylabel('Mean Covariance between S and I')\n",
    "plt.title(fr'Mean Covariance vs $\\gamma$')\n",
    "plt.grid(True)\n",
    "plt.show()"
   ]
  },
  {
   "cell_type": "code",
   "execution_count": null,
   "metadata": {},
   "outputs": [],
   "source": [
    "# mean variance in I for each value of mu\n",
    "plt.figure(figsize=(10, 8))\n",
    "df_mu = df_results.groupby('mu')['mean_variance_I'].mean().reset_index()\n",
    "plt.plot(df_mu['mu'], df_mu['mean_variance_I'], marker='o')\n",
    "plt.xlabel(fr'Birth/Death Rate ($\\mu$)')\n",
    "plt.ylabel('Mean Variance in I')\n",
    "plt.title(fr'Mean Variance in I vs $\\mu$')\n",
    "plt.grid(True)\n",
    "plt.show()"
   ]
  },
  {
   "cell_type": "code",
   "execution_count": null,
   "metadata": {},
   "outputs": [],
   "source": [
    "# mean covariance between S and I for each value of mu\n",
    "plt.figure(figsize=(10, 8))\n",
    "df_mu = df_results.groupby('mu')['mean_covariance_SI'].mean().reset_index()\n",
    "plt.plot(df_mu['mu'], df_mu['mean_covariance_SI'], marker='o')\n",
    "plt.xlabel(fr'Birth/Death Rate ($\\mu$)')\n",
    "plt.ylabel('Mean Covariance between S and I')\n",
    "plt.title(fr'Mean Covariance vs $\\mu$')\n",
    "plt.grid(True)\n",
    "plt.show()"
   ]
  },
  {
   "cell_type": "markdown",
   "metadata": {},
   "source": [
    "Alternative (old) implementation of the algorithm "
   ]
  },
  {
   "cell_type": "code",
   "execution_count": null,
   "metadata": {},
   "outputs": [],
   "source": [
    "N = 10000 # population size \n",
    "X_0 = 0.8*N\n",
    "Y_0 = 0.2*N\n",
    "Z_0 = 0\n",
    "\n",
    "SIRN0_12 = [X_0, Y_0, Z_0, N] # should have integer values\n",
    "\n",
    "t_0 = 0\n",
    "t_final = 100\n",
    "t = np.linspace(t_0, t_final, 100)"
   ]
  },
  {
   "cell_type": "code",
   "execution_count": null,
   "metadata": {},
   "outputs": [],
   "source": [
    "counter = 1\n",
    "runs = 10\n",
    "\n",
    "# store data for all runs in a list\n",
    "reference = [1,50,99]\n",
    "\n",
    "for i in range(2):\n",
    "    beta_12 = 0.8 * (i + 1)\n",
    "    for j in range(2):\n",
    "        gamma_12 = 0.3 * (j + 1)\n",
    "        for k in range(2):\n",
    "            storage_X1 = []\n",
    "            storage_Y1 = []\n",
    "            storage_Z1 = []\n",
    "            \n",
    "            storage_X50 = []\n",
    "            storage_Y50 = []\n",
    "            storage_Z50 = []\n",
    "            \n",
    "            storage_X99 = []\n",
    "            storage_Y99 = []\n",
    "            storage_Z99 = []\n",
    "            \n",
    "            storage_covariance =[]\n",
    "            \n",
    "            mean_X1 = []\n",
    "            var_X1 = []\n",
    "            \n",
    "            mean_Y1 = []\n",
    "            var_Y1 = []\n",
    "            \n",
    "            mean_Z1 = []\n",
    "            var_Z1 = []\n",
    "            \n",
    "            mean_X50 = []\n",
    "            var_X50 = []\n",
    "            \n",
    "            mean_Y50 = []\n",
    "            var_Y50 = []\n",
    "            \n",
    "            mean_Z50 = []\n",
    "            var_Z50 = []\n",
    "            \n",
    "            mean_X99 = []\n",
    "            var_X99 = []\n",
    "            \n",
    "            mean_Y99 = []\n",
    "            var_Y99 = []\n",
    "            \n",
    "            mean_Z99 = []\n",
    "            var_Z99 = []\n",
    "            \n",
    "            mu_12 = 0.01 * (k + 1)\n",
    "            solution_12 = odeint(my_ode_11, SIRN0_12, t, args=(beta_12, gamma_12, mu_12))\n",
    "            S_solution_12, I_solution_12, R_solution_12, N_solution_12 = solution_12.T\n",
    "            extinction = False\n",
    "            \n",
    "            for m in range(runs):\n",
    "                time = [0]\n",
    "                X = [0.8 * N]\n",
    "                Y = [0.2 * N]\n",
    "                Z = [0]\n",
    "                while time[-1] < t_final:\n",
    "                    event_rates = np.array([mu_12 * N, beta_12 * X[-1] * Y[-1] / N, \n",
    "                                            gamma_12 * Y[-1], \n",
    "                                            mu_12 * X[-1], \n",
    "                                            mu_12 * Y[-1], \n",
    "                                            mu_12 * Z[-1]])\n",
    "                    rate_sum = np.sum(event_rates)\n",
    "                    delta_t = -1 / rate_sum * np.log(1 - np.random.uniform(0, 1))\n",
    "                    p = np.random.uniform(0, 1) * rate_sum\n",
    "                    time.append(time[-1] + delta_t)\n",
    "                    if 0 < p and p <= np.sum(event_rates[:1]):\n",
    "                        X.append(X[-1] + 1)\n",
    "                        Y.append(Y[-1])\n",
    "                        Z.append(Z[-1])\n",
    "                    elif np.sum(event_rates[:1]) < p and p <= np.sum(event_rates[:2]):\n",
    "                        X.append(X[-1] - 1)\n",
    "                        Y.append(Y[-1] + 1)\n",
    "                        Z.append(Z[-1])\n",
    "                    elif np.sum(event_rates[:2]) < p and p <= np.sum(event_rates[:3]):\n",
    "                        X.append(X[-1])\n",
    "                        Y.append(Y[-1] - 1)\n",
    "                        Z.append(Z[-1] + 1)\n",
    "                    elif np.sum(event_rates[:3]) < p and p <= np.sum(event_rates[:4]):\n",
    "                        X.append(X[-1] - 1)\n",
    "                        Y.append(Y[-1])\n",
    "                        Z.append(Z[-1])\n",
    "                    elif np.sum(event_rates[:4]) < p and p <= np.sum(event_rates[:5]):\n",
    "                        X.append(X[-1])\n",
    "                        Y.append(Y[-1] - 1)\n",
    "                        Z.append(Z[-1])\n",
    "                    elif np.sum(event_rates[:5]) < p and p <= np.sum(event_rates[:6]):\n",
    "                        X.append(X[-1])\n",
    "                        Y.append(Y[-1])\n",
    "                        Z.append(Z[-1] - 1)\n",
    "                    # Save the values of x,y and z around timepoints 1, 50 and 99. \n",
    "                    if time[-2]< 1 and time[-1]>= 1:\n",
    "                        storage_X1.append(X[-1])\n",
    "                        storage_Y1.append(Y[-1])\n",
    "                        storage_Z1.append(Z[-1])\n",
    "                    if time[-2]< 50 and time[-1]>= 50:\n",
    "                        storage_X50.append(X[-1])\n",
    "                        storage_Y50.append(Y[-1])\n",
    "                        storage_Z50.append(Z[-1])\n",
    "                    if time[-2]< 99 and time[-1]>= 99:\n",
    "                        storage_X99.append(X[-1])\n",
    "                        storage_Y99.append(Y[-1])\n",
    "                        storage_Z99.append(Z[-1])\n",
    "                        \n",
    "                #calculation of covariance between number of susceptibles and number of infectious \n",
    "                covariance_matrix = np.cov(X, Y)\n",
    "                covariance = covariance_matrix[0,1]\n",
    "                print(covariance)\n",
    "                storage_covariance.append(covariance)\n",
    "                \n",
    "            mean_X1 = np.mean(storage_X1)\n",
    "            var_X1 = np.std(storage_X1)\n",
    "            \n",
    "            mean_Y1 = np.mean(storage_Y1)\n",
    "            var_Y1 = np.std(storage_Y1)\n",
    "            \n",
    "            mean_Z1 = np.mean(storage_Z1)\n",
    "            var_Z1 = np.std(storage_Z1)\n",
    "            \n",
    "            mean_X50 = np.mean(storage_X50)\n",
    "            var_X50 = np.std(storage_X50)            \n",
    "            \n",
    "            mean_Y50 = np.mean(storage_Y50)\n",
    "            var_Y50 = np.std(storage_Y50)            \n",
    "            \n",
    "            mean_Z50 = np.mean(storage_Z50)\n",
    "            var_Z50 = np.std(storage_Z50)            \n",
    "            \n",
    "            mean_X99 = np.mean(storage_X99)\n",
    "            var_X99 = np.std(storage_X99)            \n",
    "            \n",
    "            mean_Y99 = np.mean(storage_Y99)\n",
    "            var_Y99 = np.std(storage_Y99)            \n",
    "            \n",
    "            mean_Z99 = np.mean(storage_Z99)\n",
    "            var_Z99 = np.std(storage_Z99)\n",
    "            \n",
    "            plt.figure(figsize=(8, 6))\n",
    "            plt.scatter(reference, [mean_X1, mean_X50, mean_X99], color='yellow')\n",
    "            plt.errorbar(reference, [mean_X1, mean_X50, mean_X99], yerr=[var_X1, var_X50, var_X99], fmt='o', color='yellow')\n",
    "            plt.scatter(reference, [mean_Y1, mean_Y50, mean_Y99], color='blue')\n",
    "            plt.errorbar(reference, [mean_Y1, mean_Y50, mean_Y99], yerr=[var_Y1, var_Y50, var_Y99], fmt='o', color='blue')\n",
    "            plt.scatter(reference, [mean_Z1, mean_Z50, mean_Z99], color='red')\n",
    "            plt.errorbar(reference, [mean_Z1, mean_Z50, mean_Z99], yerr=[var_Z1, var_Z50, var_Z99], fmt='o', color='red')\n",
    "            plt.plot(t, S_solution_12, label='S', color='yellow')\n",
    "            plt.plot(t, I_solution_12, label='I', color='blue')\n",
    "            plt.plot(t, R_solution_12, label='R', color='red')\n",
    "            plt.xlabel('time')\n",
    "            plt.legend()\n",
    "            plt.ylabel('Number of people')\n",
    "            plt.title(fr'Figure 1.2.{counter}: Development of SIR in Time. $\\beta$={beta_12}, $\\gamma$={gamma_12}, $\\mu$={mu_12}, R_0 = {round(beta_12/(gamma_12+mu_12),2)}, N={N} {chr(10)} The mean covariance with these parameter conditions is {np.mean(storage_covariance)}')\n",
    "            plt.grid()\n",
    "            plt.show()\n",
    "            counter += 1"
   ]
  },
  {
   "cell_type": "markdown",
   "metadata": {},
   "source": [
    "Depending on the parameter values, the trend points obtained from stochastic outcomes at times 1, 50 and 99 can be well aligned to the deterministic outcomes, but can also deviate (both in case when the average covariance between S and I is positive and when it is negative). "
   ]
  },
  {
   "cell_type": "markdown",
   "metadata": {},
   "source": [
    "### Experiment 2: Stochastic Resonance and Transients"
   ]
  },
  {
   "cell_type": "markdown",
   "metadata": {},
   "source": [
    "Start by running the deterministic method to equilibrium and then evaluate the stochastic outcomes around the same section. "
   ]
  },
  {
   "cell_type": "code",
   "execution_count": 119,
   "metadata": {},
   "outputs": [],
   "source": [
    "N = 1000                    # population size\n",
    "X_0 = 0.8*N                  # initial number of susceptibles\n",
    "Y_0 = 0.2*N                  # initial number of infectious \n",
    "Z_0 = 0                      # initial number of recovered\n",
    "SIRN0_13 = [X_0, Y_0, Z_0, N]   # initial state\n",
    "\n",
    "t0 = 0                      \n",
    "t_final = 100\n",
    "\n",
    "t1 = np.linspace(t0, t_final*10, 1000)      # for the ode to approxiamate equilibrium-values of the system with the given set of parameter values\n",
    "t = np.linspace(t0, t_final, 100)           # for the ode to be a reference for the stochastic simulation.\n",
    "counter = 1                                 # ennumeration of the figures."
   ]
  },
  {
   "cell_type": "code",
   "execution_count": null,
   "metadata": {},
   "outputs": [],
   "source": [
    "for i in range(10):\n",
    "    for j in range(10):\n",
    "        for k in range(5):\n",
    "            beta_13 = 0.8*(i+1)\n",
    "            gamma_13 = 0.1*(j+1)\n",
    "            mu_13 = 0.01*(k+1)\n",
    "            solution_13 = odeint(my_ode_11, SIRN0_13, t1, args=(beta_13, gamma_13, mu_13))    \n",
    "            S_solution_13, I_solution_13, R_solution_13, N_solution_13 = solution_13.T       \n",
    "            #the last value set of these variables provides us with an approximation of the equilibrium point\n",
    "           \n",
    "            # Gillespie's Direct Algorithm: look at box 6.3 on page 201 of the KR book. \n",
    "            # step 1: label all possible events\n",
    "            events = ['births', 'transmission', 'recovery', 'death_in_S', 'death_in_I', 'death_in_R']       \n",
    "            \n",
    "            time = [0]\n",
    "            X = [S_solution_13[-1]]\n",
    "            Y = [I_solution_13[-1]]\n",
    "            Z = [R_solution_13[-1]]\n",
    "            extinction = False\n",
    "            \n",
    "            while time[-1] < t_final:\n",
    "                # step 2: determine the rate at which each event occurs\n",
    "                event_rates = np.array([mu_13*N, beta_13*X[-1]*Y[-1]/N, gamma_13*Y[-1], \n",
    "                                        mu_13*X[-1], mu_13*Y[-1], mu_13*Z[-1]])            \n",
    "                # step 3: the rate at which any event occurs\n",
    "                rate_sum = np.sum(event_rates)               \n",
    "                # step 4: the time until the next event\n",
    "                delta_t = -1/rate_sum * np.log(1-np.random.uniform(0,1))       \n",
    "                # step 5: generate a new random number\n",
    "                p = np.random.uniform(0,1) * rate_sum     \n",
    "                # step 6: adjust the time-variable     \n",
    "                time.append(time[-1] + delta_t)                                                  \n",
    "                if 0 <= p and p <= np.sum(event_rates[:1]):                                      \n",
    "                    X.append(X[-1] + 1)\n",
    "                    Y.append(Y[-1])\n",
    "                    Z.append(Z[-1])\n",
    "                elif np.sum(event_rates[:1]) < p and p <= np.sum(event_rates[:2]):\n",
    "                    Y.append(Y[-1] + 1)\n",
    "                    X.append(X[-1] - 1)\n",
    "                    Z.append(Z[-1])\n",
    "                elif np.sum(event_rates[:2]) < p and p <= np.sum(event_rates[:3]):\n",
    "                    X.append(X[-1])\n",
    "                    Y.append(Y[-1] - 1)\n",
    "                    Z.append(Z[-1] + 1)\n",
    "                elif np.sum(event_rates[:3]) < p and p <= np.sum(event_rates[:4]):\n",
    "                    X.append(X[-1] - 1)\n",
    "                    Y.append(Y[-1])\n",
    "                    Z.append(Z[-1])\n",
    "                elif np.sum(event_rates[:4]) < p and p <= np.sum(event_rates[:5]):\n",
    "                    X.append(X[-1])\n",
    "                    Y.append(Y[-1] - 1)\n",
    "                    Z.append(Z[-1])\n",
    "                elif np.sum(event_rates[:5]) < p and p <= np.sum(event_rates[:6]):\n",
    "                    X.append(X[-1])\n",
    "                    Y.append(Y[-1])\n",
    "                    Z.append(Z[-1] - 1)        \n",
    "                if Y[-1] == 0 and Y[-2] != 0:\n",
    "                    extinction = True\n",
    "                    print(f'extinction at time = {time[-1]}')\n",
    "            solution_13 = odeint(my_ode_11, [S_solution_13[-1],I_solution_13[-1],R_solution_13[-1],N], t, args=(beta_13, gamma_13, mu_13))\n",
    "            S_solution_13, I_solution_13, R_solution_13, N_solution_13 = solution_13.T\n",
    "            if max(Y) - min(Y) > 100:\n",
    "                \n",
    "                plt.figure(figsize=(8, 6))\n",
    "                plt.plot(time, X, label='S', color= blues[0])\n",
    "                plt.plot(time, Y, label='I', color= reds[0])\n",
    "                plt.plot(time, Z, label='R', color= greens[0])\n",
    "                plt.plot(t, S_solution_13, color= blues[1])\n",
    "                plt.plot(t, I_solution_13, color= reds[1])\n",
    "                plt.plot(t, R_solution_13, color= greens[1])\n",
    "                \n",
    "                plt.xlabel('time')\n",
    "                plt.ylabel('Number of people')\n",
    "                plt.title(fr'Figure 1.3.{counter}: Development of SIR in Time. $\\beta$={round(beta_13,2)}, $\\gamma$={round(gamma_13,2)}, $\\mu$={round(mu_13,2)}, R_0 = {round(round(beta_13,2)/(round(gamma_13,2)+round(mu_13,2)),2)}, N={N}')\n",
    "                plt.legend(loc='center right')\n",
    "                plt.grid()\n",
    "                plt.show()\n",
    "                counter += 1"
   ]
  },
  {
   "cell_type": "markdown",
   "metadata": {},
   "source": [
    "### Experiment 3: Extinction Process and Critical Community Size"
   ]
  },
  {
   "cell_type": "markdown",
   "metadata": {},
   "source": [
    "Now evaluate the link between the behavior of extinction rate and different values of $R_0$ and population sizes. "
   ]
  },
  {
   "cell_type": "code",
   "execution_count": null,
   "metadata": {},
   "outputs": [],
   "source": [
    "N0 = 1000 #Size of the population\n",
    "t_final = 1000\n",
    "runs = 10"
   ]
  },
  {
   "cell_type": "code",
   "execution_count": null,
   "metadata": {},
   "outputs": [],
   "source": [
    "for i in range(4): #4 iterations of i will give populations of 10^3, 5*10^3, 10^4, 5*10^4, 10^5, 5*10^5 and 10^6\n",
    "    N = N0*10**i\n",
    "    for j in range(10):\n",
    "        counter = 0\n",
    "        for k in range(runs):\n",
    "            gamma_14 = 0.1\n",
    "            mu_14 = 0.02\n",
    "            R_0 = 1+0.1*j\n",
    "            beta_14 = R_0*(gamma_14+mu_14)\n",
    "            \n",
    "            # Gillespie's Direct Algorithm: box 6.3 on page 201 of the KR book. \n",
    "            # step 1: label all possible events\n",
    "            events = ['births', 'transmission', 'recovery', 'death_in_S', 'death_in_I', 'death_in_R']       \n",
    "            time = [0]\n",
    "            X = [0.8*N]\n",
    "            Y = [0.2*N]\n",
    "            Z = [0]\n",
    "            extinction = False\n",
    "            while time[-1] < t_final:\n",
    "                # step 2: determine the rate at which each event occurs\n",
    "                event_rates = np.array([mu_13*N, beta_13*X[-1]*Y[-1]/N, gamma_13*Y[-1], mu_13*X[-1], mu_13*Y[-1], mu_13*Z[-1]]) \n",
    "                # step 3: the rate at which any event occurs\n",
    "                rate_sum = np.sum(event_rates)      \n",
    "                # step 4: the time until the next event\n",
    "                delta_t = -1/rate_sum * np.log(1-np.random.uniform(0,1))   \n",
    "                # step 5: generate a new random number\n",
    "                p = np.random.uniform(0,1) * rate_sum                                                      \n",
    "                time.append(time[-1] + delta_t)                                                        \n",
    "                if 0 <= p and p <= np.sum(event_rates[:1]):\n",
    "                    X.append(X[-1] + 1)\n",
    "                    Y.append(Y[-1])\n",
    "                    Z.append(Z[-1])\n",
    "                elif np.sum(event_rates[:1]) < p and p <= np.sum(event_rates[:2]):\n",
    "                    Y.append(Y[-1] + 1)\n",
    "                    X.append(X[-1] - 1)\n",
    "                    Z.append(Z[-1])\n",
    "                elif np.sum(event_rates[:2]) < p and p <= np.sum(event_rates[:3]):\n",
    "                    X.append(X[-1])\n",
    "                    Y.append(Y[-1] - 1)\n",
    "                    Z.append(Z[-1] + 1)\n",
    "                elif np.sum(event_rates[:3]) < p and p <= np.sum(event_rates[:4]):\n",
    "                    X.append(X[-1] - 1)\n",
    "                    Y.append(Y[-1])\n",
    "                    Z.append(Z[-1])\n",
    "                elif np.sum(event_rates[:4]) < p and p <= np.sum(event_rates[:5]):\n",
    "                    X.append(X[-1])\n",
    "                    Y.append(Y[-1] - 1)\n",
    "                    Z.append(Z[-1])\n",
    "                elif np.sum(event_rates[:5]) < p and p <= np.sum(event_rates[:6]):\n",
    "                    X.append(X[-1])\n",
    "                    Y.append(Y[-1])\n",
    "                    Z.append(Z[-1] - 1)        \n",
    "                if Y[-2] > 0 and Y[-1] <= 0:\n",
    "                    extinction = True\n",
    "                    counter += 1\n",
    "                    # print(f'extinction at time = {time[-1]} with R_0={R_0} and N={N}')\n",
    "        print(f'With R_0={round(R_0,2)} and N={N}, {counter} out of {runs} runs resulted in extinction within {t_final} days.')"
   ]
  },
  {
   "cell_type": "markdown",
   "metadata": {},
   "source": [
    "## Problem 2:  Spatial Models - Networks"
   ]
  },
  {
   "cell_type": "markdown",
   "metadata": {},
   "source": [
    "Start by reading the SocioPatterns data file "
   ]
  },
  {
   "cell_type": "code",
   "execution_count": 124,
   "metadata": {},
   "outputs": [],
   "source": [
    "path= \"/Users/aleksandar/Desktop/Computational Science MSc/Introduction to Computational Science/Assignements/assignment_2_2023_oct_5/\"\n",
    "os.chdir(path)\n",
    "# Hello"
   ]
  },
  {
   "cell_type": "code",
   "execution_count": null,
   "metadata": {},
   "outputs": [],
   "source": [
    "# the path to the folder containing the csv file\n",
    "folder_path = 'data/'\n",
    "\n",
    "# the name of the csv file you want to read\n",
    "file_name = 'transmission_network.csv'\n",
    "\n",
    "# combine the folder path and file name to create the file path\n",
    "file_path = folder_path + file_name\n",
    "\n",
    "# read the csv file into a data frame\n",
    "try:\n",
    "    df = pd.read_csv(file_path, sep = \";\")\n",
    "    print(df.head())\n",
    "except FileNotFoundError:\n",
    "    print(f\"The file '{file_name}' was not found in the folder '{folder_path}'.\")\n",
    "except Exception as e:\n",
    "    print(f\"An error occurred: {str(e)}\")"
   ]
  },
  {
   "cell_type": "code",
   "execution_count": null,
   "metadata": {},
   "outputs": [],
   "source": [
    "df = df.rename(columns={df.columns[0]:'nodes'})\n",
    "display(df)"
   ]
  },
  {
   "cell_type": "markdown",
   "metadata": {},
   "source": [
    "the network adjacency matrix is given with the 'nodes' column and the other col names giving the opposite node indicatiors"
   ]
  },
  {
   "cell_type": "markdown",
   "metadata": {},
   "source": [
    "Following the guidance in the assignment, we disregard the weights and assume all contacts involve equal length of contact and hence equal chance of transmission. Hence, we convert the adjacency matrix above into the one where all weights are equal to 1. "
   ]
  },
  {
   "cell_type": "code",
   "execution_count": null,
   "metadata": {},
   "outputs": [],
   "source": [
    "# change all non-zero values from the second column onwards to 1\n",
    "df.iloc[:, 1:] = (df.iloc[:, 1:] != 0).astype(int)\n",
    "\n",
    "display(df)"
   ]
  },
  {
   "cell_type": "markdown",
   "metadata": {},
   "source": [
    "## Problem 2.1: \n",
    "\n",
    "Implement SIR disease spread on the sociopattern network. Think about your experimental design and which parameters of the model you will want to vary. Design code that will allow you run multiple simulations while varying the disease parameter"
   ]
  },
  {
   "cell_type": "markdown",
   "metadata": {},
   "source": [
    "### Set Up"
   ]
  },
  {
   "cell_type": "markdown",
   "metadata": {},
   "source": [
    "Test create an ER graph object"
   ]
  },
  {
   "cell_type": "code",
   "execution_count": 128,
   "metadata": {},
   "outputs": [],
   "source": [
    "g_er = nx.erdos_renyi_graph(1000, 0.1)"
   ]
  },
  {
   "cell_type": "markdown",
   "metadata": {},
   "source": [
    "Create a graph object using the SocioPatterns adjacency matrix"
   ]
  },
  {
   "cell_type": "code",
   "execution_count": 13,
   "metadata": {},
   "outputs": [],
   "source": [
    "import csv\n",
    "import glob\n",
    "import numpy as np\n",
    "import matplotlib.pyplot as plt\n",
    "import matplotlib.patches as mpatches\n",
    "import networkx as nx\n",
    "import ndlib\n",
    "import ndlib.models.epidemics as ep\n",
    "import os\n",
    "import pandas as pd\n",
    "import scipy\n",
    "from scipy.integrate import odeint     \n",
    "from scipy.optimize import minimize\n",
    "import statsmodels as sm\n",
    "import sympy as sp\n",
    "import json"
   ]
  },
  {
   "cell_type": "code",
   "execution_count": 2,
   "metadata": {},
   "outputs": [],
   "source": [
    "# Import the csv file\n",
    "df = pd.read_csv('transmission_network.csv', sep=';')\n",
    "df = df.rename(columns={df.columns[0]:'nodes'})\n",
    "\n",
    "# create a graph object\n",
    "g = nx.Graph()\n",
    "\n",
    "# extract node names from the first column of the dataframe\n",
    "nodes = df['nodes'].tolist()\n",
    "# add nodes to the graph\n",
    "g.add_nodes_from(nodes)"
   ]
  },
  {
   "cell_type": "code",
   "execution_count": null,
   "metadata": {},
   "outputs": [],
   "source": [
    "num_nodes = g.number_of_nodes()\n",
    "print(num_nodes)"
   ]
  },
  {
   "cell_type": "code",
   "execution_count": null,
   "metadata": {},
   "outputs": [],
   "source": [
    "print(nodes)\n",
    "print(len(nodes))"
   ]
  },
  {
   "cell_type": "code",
   "execution_count": 5,
   "metadata": {},
   "outputs": [],
   "source": [
    "# iterate through the dataframe and add edges\n",
    "for index, row in df.iterrows():\n",
    "    source_node = row['nodes']\n",
    "    for col_name, edge_value in row.items():\n",
    "        if col_name != 'nodes' and edge_value != 0:\n",
    "            target_node = int(col_name)\n",
    "            g.add_edge(source_node, target_node)"
   ]
  },
  {
   "cell_type": "code",
   "execution_count": null,
   "metadata": {},
   "outputs": [],
   "source": [
    "nodes_list = list(g.nodes())\n",
    "print(nodes_list)"
   ]
  },
  {
   "cell_type": "code",
   "execution_count": null,
   "metadata": {},
   "outputs": [],
   "source": [
    "# create a layout for the nodes\n",
    "pos = nx.kamada_kawai_layout(g)\n",
    "\n",
    "# draw the nodes and edges\n",
    "nx.draw(g, pos, with_labels=True, node_size=100, node_color='skyblue', font_size=6, font_color='black')\n",
    "nx.draw_networkx_edges(g, pos, edge_color='red', width=0.1)\n",
    "\n",
    "# display the graph\n",
    "plt.axis('off')\n",
    "plt.title(\"Network Visualization\")\n",
    "plt.show()"
   ]
  },
  {
   "cell_type": "markdown",
   "metadata": {},
   "source": [
    "add a relabled version of the graph - where existing nodes are labled in an order"
   ]
  },
  {
   "cell_type": "code",
   "execution_count": 42,
   "metadata": {},
   "outputs": [],
   "source": [
    "mapping = {node: i for i, node in enumerate(g.nodes())}\n",
    "g_re = nx.relabel_nodes(g, mapping)"
   ]
  },
  {
   "cell_type": "code",
   "execution_count": null,
   "metadata": {},
   "outputs": [],
   "source": [
    "print(g_re.nodes())"
   ]
  },
  {
   "cell_type": "markdown",
   "metadata": {},
   "source": [
    "### Model Selection and Configuration"
   ]
  },
  {
   "cell_type": "markdown",
   "metadata": {},
   "source": [
    "Set up SIR model configurations using the code on the NDlib reference page"
   ]
  },
  {
   "cell_type": "markdown",
   "metadata": {},
   "source": [
    "Import epidemics from ndlib and set up the SIR model object"
   ]
  },
  {
   "cell_type": "code",
   "execution_count": 44,
   "metadata": {},
   "outputs": [],
   "source": [
    "model = ep.SIRModel(g_re)"
   ]
  },
  {
   "cell_type": "markdown",
   "metadata": {},
   "source": [
    "Use json to obtain parameters of the model"
   ]
  },
  {
   "cell_type": "code",
   "execution_count": null,
   "metadata": {},
   "outputs": [],
   "source": [
    "print(json.dumps(model.parameters, indent=2))"
   ]
  },
  {
   "cell_type": "markdown",
   "metadata": {},
   "source": [
    "Display available model statuses"
   ]
  },
  {
   "cell_type": "code",
   "execution_count": null,
   "metadata": {},
   "outputs": [],
   "source": [
    "model.available_statuses"
   ]
  },
  {
   "cell_type": "markdown",
   "metadata": {},
   "source": [
    "Specify a model configuration by setting model parameter values"
   ]
  },
  {
   "cell_type": "code",
   "execution_count": 47,
   "metadata": {},
   "outputs": [],
   "source": [
    "import ndlib.models.ModelConfig as mc"
   ]
  },
  {
   "cell_type": "code",
   "execution_count": 48,
   "metadata": {},
   "outputs": [],
   "source": [
    "cfg = mc.Configuration()\n",
    "cfg.add_model_parameter('beta', 0.02) #infection rate\n",
    "cfg.add_model_parameter('gamma', 0.01) #recovery rate \n",
    "# + \n",
    "cfg.add_model_parameter(\"percentage_infected\", 0.01)\n",
    "model.set_initial_status(cfg)"
   ]
  },
  {
   "cell_type": "markdown",
   "metadata": {},
   "source": [
    "As described in the reference notebook, NDlib models diffusive phenomena as discrete-time, agent-based processes, where during every iteration all nodes are evaluated and, their statuses are updated accoridng to the model rules. "
   ]
  },
  {
   "cell_type": "markdown",
   "metadata": {},
   "source": [
    "We use iterations to generate model outcome instances, across all nodes. "
   ]
  },
  {
   "cell_type": "code",
   "execution_count": 49,
   "metadata": {},
   "outputs": [],
   "source": [
    "iterations = model.iteration_bunch(200, node_status = True)"
   ]
  },
  {
   "cell_type": "markdown",
   "metadata": {},
   "source": [
    "We use build_trends to transform iterations into diffusion trends"
   ]
  },
  {
   "cell_type": "code",
   "execution_count": 50,
   "metadata": {},
   "outputs": [],
   "source": [
    "trends = model.build_trends(iterations)"
   ]
  },
  {
   "cell_type": "code",
   "execution_count": null,
   "metadata": {},
   "outputs": [],
   "source": [
    "print(type(trends[0]['trends']))"
   ]
  },
  {
   "cell_type": "code",
   "execution_count": null,
   "metadata": {},
   "outputs": [],
   "source": [
    "print(trends[0]['trends']['node_count'][0])"
   ]
  },
  {
   "cell_type": "markdown",
   "metadata": {},
   "source": [
    "#### Visualise using DiffusionTrend and DiffusionPrevalence "
   ]
  },
  {
   "cell_type": "markdown",
   "metadata": {},
   "source": [
    "Diffusion trend in the SIR spread on the network"
   ]
  },
  {
   "cell_type": "code",
   "execution_count": null,
   "metadata": {},
   "outputs": [],
   "source": [
    "%matplotlib inline\n",
    "from ndlib.viz.mpl.DiffusionTrend import DiffusionTrend\n",
    "\n",
    "viz = DiffusionTrend(model, trends)\n",
    "viz.plot() \n",
    "\n",
    "# assuming the last created figure and axes are the ones from DiffusionTrend\n",
    "#fig, ax = plt.gcf(), plt.gca()  # Get current figure and axes\n",
    "\n",
    "# customize\n",
    "#ax.set_title(fr'Figure: SIR Spread on the SocioPatterns Network')\n",
    "#ax.set_xlabel('Iterations')\n",
    "#ax.set_ylabel('Fraction of Nodes')\n",
    "#ax.legend()\n",
    "#ax.grid()\n",
    "\n",
    "#plt.show()\n",
    "#counter += 1\n"
   ]
  },
  {
   "cell_type": "markdown",
   "metadata": {},
   "source": [
    "Diffusion prevalence in the SIR spread on the network"
   ]
  },
  {
   "cell_type": "code",
   "execution_count": null,
   "metadata": {},
   "outputs": [],
   "source": [
    "from ndlib.viz.mpl.DiffusionPrevalence import DiffusionPrevalence\n",
    "viz = DiffusionPrevalence (model, trends)\n",
    "viz.plot()"
   ]
  },
  {
   "cell_type": "markdown",
   "metadata": {},
   "source": [
    "Set the parameter range values"
   ]
  },
  {
   "cell_type": "code",
   "execution_count": 25,
   "metadata": {},
   "outputs": [],
   "source": [
    "beta_values = np.linspace(0.1, 3, 101)\n",
    "gamma_values = np.linspace(0.01, 1, 101)\n",
    "percentage_infected = 0.01"
   ]
  },
  {
   "cell_type": "code",
   "execution_count": 26,
   "metadata": {},
   "outputs": [],
   "source": [
    "r0_values = []\n",
    "\n",
    "for beta in beta_values: \n",
    "    for gamma in gamma_values: \n",
    "        r0 = beta/gamma\n",
    "        r0_values.append(r0)"
   ]
  },
  {
   "cell_type": "code",
   "execution_count": null,
   "metadata": {},
   "outputs": [],
   "source": [
    "# R0 histogram\n",
    "plt.figure(figsize=(10, 6))\n",
    "\n",
    "plt.hist(r0_values, bins=50, edgecolor='black', alpha=0.7)\n",
    "plt.title('Histogram of R0 values obtained for variations of beta and gamma parameters')\n",
    "plt.xlabel('Value')\n",
    "plt.ylabel('Frequency')\n",
    "plt.grid(True)\n",
    "plt.show()"
   ]
  },
  {
   "cell_type": "markdown",
   "metadata": {},
   "source": [
    "Initiate variables to store results of each run in"
   ]
  },
  {
   "cell_type": "markdown",
   "metadata": {},
   "source": [
    "generate model outcomes (101x101)"
   ]
  },
  {
   "cell_type": "code",
   "execution_count": 67,
   "metadata": {},
   "outputs": [],
   "source": [
    "# Generate SIR model object\n",
    "SIR_model = ep.SIRModel(g)\n",
    "\n",
    "# Set parameter values\n",
    "betas = np.linspace(0.1, 3, 101)\n",
    "gammas = np.linspace(0.01, 1, 101)\n",
    "percentage_infected = 0.01\n",
    "nr_iterations = 200\n",
    "\n",
    "# Pre-allocate variables.\n",
    "all_I = []\n",
    "S_store = np.zeros((len(betas), len(gammas), nr_iterations))\n",
    "I_store = np.zeros((len(betas), len(gammas), nr_iterations))\n",
    "R_store = np.zeros((len(betas), len(gammas), nr_iterations))\n",
    "\n",
    "# Run experiment\n",
    "cfg = mc.Configuration()\n",
    "cfg.add_model_parameter(\"percentage_infected\", percentage_infected)\n",
    "\n",
    "for beta_ix, beta in enumerate(betas):\n",
    "    for gamma_ix, gamma in enumerate(gammas):\n",
    "        # (Re)set every node as susceptible\n",
    "        for node in g.nodes():\n",
    "            SIR_model.status[node] = 0\n",
    "            \n",
    "        # Set model configurations\n",
    "        cfg.add_model_parameter('beta', beta)\n",
    "        cfg.add_model_parameter('gamma', gamma)\n",
    "        SIR_model.set_initial_status(cfg)\n",
    "        iterations = SIR_model.iteration_bunch(nr_iterations, node_status=True)\n",
    "        trends = SIR_model.build_trends(iterations)\n",
    "        \n",
    "        # Extract values based on updated structure\n",
    "        node_counts = trends[0]['trends']['node_count']\n",
    "        S = node_counts[0]\n",
    "        I = node_counts[1]\n",
    "        R = node_counts[2]\n",
    "        \n",
    "        # Storing all I for the plot of all realizations\n",
    "        all_I.append(I)\n",
    "\n",
    "        # Store the sums for averages\n",
    "        S_store[beta_ix, gamma_ix] = S\n",
    "        I_store[beta_ix, gamma_ix] = I\n",
    "        R_store[beta_ix, gamma_ix] = R\n",
    "        \n",
    "\n",
    "S_mean = (np.mean(np.mean(S_store, axis=0), axis=0))\n",
    "I_mean = (np.mean(np.mean(I_store, axis=0), axis=0))\n",
    "R_mean = (np.mean(np.mean(R_store, axis=0), axis=0))"
   ]
  },
  {
   "cell_type": "code",
   "execution_count": 68,
   "metadata": {},
   "outputs": [
    {
     "name": "stdout",
     "output_type": "stream",
     "text": [
      "10201 200\n"
     ]
    }
   ],
   "source": [
    "print(len(all_I), len(I_mean))"
   ]
  },
  {
   "cell_type": "code",
   "execution_count": 69,
   "metadata": {},
   "outputs": [
    {
     "data": {
      "image/png": "[encoded data removed]",
      "text/plain": [
       "<Figure size 1000x600 with 1 Axes>"
      ]
     },
     "metadata": {},
     "output_type": "display_data"
    },
    {
     "data": {
      "image/png": "[encoded data removed]",
      "text/plain": [
       "<Figure size 1000x600 with 1 Axes>"
      ]
     },
     "metadata": {},
     "output_type": "display_data"
    }
   ],
   "source": [
    "# Plot of all the realizations\n",
    "plt.figure(figsize=(10, 6))\n",
    "for I in all_I:\n",
    "    plt.plot(I, color='red', alpha=0.1)  # alpha for transparency\n",
    "plt.title(r'All Realizations of Infectious Dynamics - with $\\beta$ in [0.1,3] and $\\gamma$ in [0.01,1]')\n",
    "plt.xlabel(\"Time Steps\")\n",
    "plt.ylabel(\"Count\")\n",
    "plt.show()\n",
    "\n",
    "# Plot of average dynamics with standard deviations for I\n",
    "plt.figure(figsize=(10, 6))\n",
    "plt.plot(avg_S, label=\"Susceptible Avg\", color='blue')\n",
    "plt.fill_between(range(len(avg_I)), \n",
    "                 [i - s for i, s in zip(avg_I, std_I)], \n",
    "                 [i + s for i, s in zip(avg_I, std_I)], \n",
    "                 color='red', alpha=0.2)\n",
    "plt.plot(avg_I, label=\"Infected Avg\", color='red')\n",
    "plt.plot(avg_R, label=\"Recovered Avg\", color='green')\n",
    "plt.title(\"Average SIR Dynamics over Parameter Combinations with Std Dev for Infectious\")\n",
    "plt.xlabel(\"Time Steps\")\n",
    "plt.ylabel(\"Count\")\n",
    "plt.legend()\n",
    "plt.show()"
   ]
  },
  {
   "cell_type": "markdown",
   "metadata": {},
   "source": [
    "## Problem 2.2"
   ]
  },
  {
   "cell_type": "markdown",
   "metadata": {},
   "source": [
    "Using NetworkX generate multiple model networks with similar characteristics, again think about the parameters associated with each network generator (e.g., number of nodes, connection probability,etc). Pick some network statistics (e.g., centrality measures, degree distributions, etc.) that are interesting to measure in terms of spreading on the network. You should generate multiple instances of each network type and then plot the network statistics (you chose) and discuss how these statistic differ between network types and for different parameter settings. You will use these generated networks in your SIR experiments in the next part."
   ]
  },
  {
   "cell_type": "markdown",
   "metadata": {},
   "source": [
    "### Network Statistics to Calculate for Various Network Models"
   ]
  },
  {
   "cell_type": "markdown",
   "metadata": {},
   "source": [
    "Most commonly used network statistics:\n",
    "\n",
    "1. **Number of Nodes and Edges**: \n",
    "   - The most basic characteristics that tell about the size of the network.\n",
    "\n",
    "2. **Average Degree**:\n",
    "   - The average number of connections each node in the network has.\n",
    "  \n",
    "3. **Degree Distribution**:\n",
    "   - Shows how nodes in the network are connected on average. It often helps to classify networks into types (e.g., scale-free, random).\n",
    "\n",
    "4. **Clustering Coefficient**:\n",
    "   - Measures the degree to which nodes in a graph tend to cluster together. It signifies the presence of tightly-knit groups in a network.\n",
    "\n",
    "5. **Average Path Length**:\n",
    "   - The average number of steps along the shortest paths for all possible pairs of network nodes. It gives a measure of the network's efficiency.\n",
    "\n",
    "6. **Diameter**:\n",
    "   - The longest of all the calculated shortest paths in the network. It gives the maximum network distance.\n",
    "\n",
    "7. **Centrality Measures**:\n",
    "   - Indicators that identify the most important nodes in a network. Common measures include:\n",
    "     - **Degree Centrality**: Number of links held by each node.\n",
    "     - **Betweenness Centrality**: Number of times a node acts as a bridge (or \"broker\") between two other nodes.\n",
    "     - **Eigenvector Centrality**: Measures a node's influence based on the number of links it has to other influential nodes.\n",
    "  \n",
    "8. **Density**:\n",
    "   - The ratio of the number of edges in the network to the number of possible edges. It gives a measure of how closely knit the network is.\n",
    "\n",
    "9. **Modularity**:\n",
    "   - A measure of the structure of the network, used to detect communities or clusters in the network. A high modularity indicates that the network is organized into communities with dense connections within communities and sparser connections between communities. (computationally expensive)  \n",
    "\n",
    "10. **Assortativity Coefficient**:\n",
    "   - Measures the similarity of connections in the network concerning the node degree. Positive assortativity indicates that nodes with a high degree tend to connect with other high-degree nodes, while negative values indicate the opposite.\n",
    "\n",
    "These statistics provide various insights into the structure and properties of networks, and their relevance can vary depending on the context and the specific research questions at hand."
   ]
  },
  {
   "cell_type": "code",
   "execution_count": 158,
   "metadata": {},
   "outputs": [],
   "source": [
    "from scipy.stats import skew, kurtosis"
   ]
  },
  {
   "cell_type": "code",
   "execution_count": 83,
   "metadata": {},
   "outputs": [],
   "source": [
    "# compute the commonly used network statistics\n",
    "def compute_network_statistics(G):\n",
    "    stats = {}\n",
    "\n",
    "    # 1. number of nodes and edges\n",
    "    stats['num_nodes'] = G.number_of_nodes()\n",
    "    stats['num_edges'] = G.number_of_edges()\n",
    "\n",
    "    # 2. average degree\n",
    "    degrees = [d for d in G.degree()]\n",
    "    stats['average_degree'] = np.mean(degrees)\n",
    "\n",
    "    # 3. average clustering coefficient\n",
    "    stats['avg_clustering_coefficient'] = nx.average_clustering(G)\n",
    "\n",
    "    # 4. average path length\n",
    "    if nx.is_connected(G):\n",
    "        stats['avg_path_length'] = nx.average_shortest_path_length(G)\n",
    "    else:\n",
    "        stats['avg_path_length'] = None\n",
    "\n",
    "    # 5. diameter\n",
    "    if nx.is_connected(G): # check if the nework is indeed connected \n",
    "        stats['diameter'] = nx.diameter(G)\n",
    "    else:\n",
    "        stats['diameter'] = None\n",
    "\n",
    "    # 6. centrality measures\n",
    "    degree_centrality = nx.degree_centrality(G)\n",
    "    stats['avg_degree_centrality'] = np.mean(list(degree_centrality.values()))\n",
    "\n",
    "    betweenness_centrality = nx.betweenness_centrality(G)\n",
    "    stats['avg_betweenness_centrality'] = np.mean(list(betweenness_centrality.values()))\n",
    "\n",
    "    # 7. Density\n",
    "    stats['density'] = nx.density(G)\n",
    "\n",
    "    # 8. Assortativity Coefficient\n",
    "    stats['assortativity_coefficient'] = nx.degree_assortativity_coefficient(G)\n",
    "    \n",
    "    return stats"
   ]
  },
  {
   "cell_type": "markdown",
   "metadata": {},
   "source": [
    "### 2.2.1. Erdos-Reyni (ER) Networks"
   ]
  },
  {
   "cell_type": "markdown",
   "metadata": {},
   "source": [
    "There are two ways to generate an ER network: \n",
    "\n",
    "- by prespecifying the number of randomly generated edges for a given set of nodes n: G(n,M) \n",
    "- by prespecifying the probability p with which any given edge between two nodes (out of n) can be included in the network: G(n,p) \n",
    "\n",
    "The latter is more common. "
   ]
  },
  {
   "cell_type": "markdown",
   "metadata": {},
   "source": [
    "Generate ER networks"
   ]
  },
  {
   "cell_type": "code",
   "execution_count": 84,
   "metadata": {},
   "outputs": [
    {
     "name": "stdout",
     "output_type": "stream",
     "text": [
      "[ 50. 100. 150. 200. 250. 300. 350. 400. 450. 500.]\n",
      "{'num_nodes': 50, 'num_edges': 13, 'average_degree': 12.51, 'avg_clustering_coefficient': 0.0, 'avg_path_length': None, 'diameter': None, 'avg_degree_centrality': 0.010612244897959183, 'avg_betweenness_centrality': 0.0001530612244897959, 'density': 0.010612244897959184, 'assortativity_coefficient': -0.44444444444444514}\n",
      "{'num_nodes': 50, 'num_edges': 150, 'average_degree': 15.25, 'avg_clustering_coefficient': 0.10360317460317461, 'avg_path_length': 2.3583673469387754, 'diameter': 5, 'avg_degree_centrality': 0.12244897959183673, 'avg_betweenness_centrality': 0.028299319727891157, 'density': 0.12244897959183673, 'assortativity_coefficient': 0.046436308729235834}\n",
      "{'num_nodes': 50, 'num_edges': 303, 'average_degree': 18.31, 'avg_clustering_coefficient': 0.2509162882181458, 'avg_path_length': 1.8, 'diameter': 3, 'avg_degree_centrality': 0.24734693877551017, 'avg_betweenness_centrality': 0.016666666666666666, 'density': 0.2473469387755102, 'assortativity_coefficient': -0.020901878319514282}\n",
      "{'num_nodes': 50, 'num_edges': 447, 'average_degree': 21.19, 'avg_clustering_coefficient': 0.36109314036148066, 'avg_path_length': 1.6351020408163266, 'diameter': 2, 'avg_degree_centrality': 0.36489795918367335, 'avg_betweenness_centrality': 0.013231292517006802, 'density': 0.36489795918367346, 'assortativity_coefficient': -0.05178620503258252}\n",
      "{'num_nodes': 50, 'num_edges': 553, 'average_degree': 23.31, 'avg_clustering_coefficient': 0.43839751918124054, 'avg_path_length': 1.5485714285714285, 'diameter': 2, 'avg_degree_centrality': 0.4514285714285714, 'avg_betweenness_centrality': 0.01142857142857143, 'density': 0.4514285714285714, 'assortativity_coefficient': -0.06376349098079791}\n",
      "{'num_nodes': 50, 'num_edges': 694, 'average_degree': 26.13, 'avg_clustering_coefficient': 0.5602603848196734, 'avg_path_length': 1.4334693877551021, 'diameter': 2, 'avg_degree_centrality': 0.5665306122448979, 'avg_betweenness_centrality': 0.009030612244897958, 'density': 0.566530612244898, 'assortativity_coefficient': -0.07082764447575815}\n",
      "{'num_nodes': 50, 'num_edges': 811, 'average_degree': 28.47, 'avg_clustering_coefficient': 0.6628062181607491, 'avg_path_length': 1.3379591836734694, 'diameter': 2, 'avg_degree_centrality': 0.6620408163265304, 'avg_betweenness_centrality': 0.0070408163265306125, 'density': 0.6620408163265306, 'assortativity_coefficient': -0.03617931098566173}\n",
      "{'num_nodes': 50, 'num_edges': 946, 'average_degree': 31.17, 'avg_clustering_coefficient': 0.7784370466401591, 'avg_path_length': 1.2277551020408164, 'diameter': 2, 'avg_degree_centrality': 0.7722448979591836, 'avg_betweenness_centrality': 0.004744897959183673, 'density': 0.7722448979591837, 'assortativity_coefficient': -0.03377875147572868}\n",
      "{'num_nodes': 50, 'num_edges': 1089, 'average_degree': 34.03, 'avg_clustering_coefficient': 0.8894023084544641, 'avg_path_length': 1.1110204081632653, 'diameter': 2, 'avg_degree_centrality': 0.8889795918367345, 'avg_betweenness_centrality': 0.0023129251700680273, 'density': 0.8889795918367347, 'assortativity_coefficient': -0.056235837771454134}\n",
      "{'num_nodes': 50, 'num_edges': 1225, 'average_degree': 36.75, 'avg_clustering_coefficient': 1.0, 'avg_path_length': 1.0, 'diameter': 1, 'avg_degree_centrality': 0.9999999999999999, 'avg_betweenness_centrality': 0.0, 'density': 1.0, 'assortativity_coefficient': nan}\n",
      "{'num_nodes': 100, 'num_edges': 54, 'average_degree': 25.29, 'avg_clustering_coefficient': 0.0, 'avg_path_length': None, 'diameter': None, 'avg_degree_centrality': 0.01090909090909091, 'avg_betweenness_centrality': 0.0073222016079158925, 'density': 0.01090909090909091, 'assortativity_coefficient': 0.06896551724138017}\n"
     ]
    },
    {
     "name": "stderr",
     "output_type": "stream",
     "text": [
      "c:\\Users\\kevin\\anaconda3\\envs\\ABM\\Lib\\site-packages\\networkx\\algorithms\\assortativity\\correlation.py:302: RuntimeWarning: invalid value encountered in scalar divide\n",
      "  return float((xy * (M - ab)).sum() / np.sqrt(vara * varb))\n"
     ]
    },
    {
     "name": "stdout",
     "output_type": "stream",
     "text": [
      "{'num_nodes': 100, 'num_edges': 588, 'average_degree': 30.63, 'avg_clustering_coefficient': 0.13466786481492363, 'avg_path_length': 2.106868686868687, 'diameter': 3, 'avg_degree_centrality': 0.11878787878787879, 'avg_betweenness_centrality': 0.011294578437435579, 'density': 0.11878787878787879, 'assortativity_coefficient': -0.007072450338797273}\n",
      "{'num_nodes': 100, 'num_edges': 1125, 'average_degree': 36.0, 'avg_clustering_coefficient': 0.22584517454639588, 'avg_path_length': 1.7755555555555556, 'diameter': 3, 'avg_degree_centrality': 0.2272727272727273, 'avg_betweenness_centrality': 0.007913832199546484, 'density': 0.22727272727272727, 'assortativity_coefficient': -0.04281627894534722}\n",
      "{'num_nodes': 100, 'num_edges': 1655, 'average_degree': 41.3, 'avg_clustering_coefficient': 0.33563936983609877, 'avg_path_length': 1.6656565656565656, 'diameter': 2, 'avg_degree_centrality': 0.3343434343434344, 'avg_betweenness_centrality': 0.006792413935271077, 'density': 0.33434343434343433, 'assortativity_coefficient': -0.05393648256744612}\n",
      "{'num_nodes': 100, 'num_edges': 2172, 'average_degree': 46.47, 'avg_clustering_coefficient': 0.4415739265653739, 'avg_path_length': 1.5612121212121213, 'diameter': 2, 'avg_degree_centrality': 0.4387878787878787, 'avg_betweenness_centrality': 0.005726654298082869, 'density': 0.4387878787878788, 'assortativity_coefficient': -0.00535819247566153}\n",
      "{'num_nodes': 100, 'num_edges': 2777, 'average_degree': 52.52, 'avg_clustering_coefficient': 0.5623443542414792, 'avg_path_length': 1.438989898989899, 'diameter': 2, 'avg_degree_centrality': 0.5610101010101011, 'avg_betweenness_centrality': 0.0044794887652030504, 'density': 0.561010101010101, 'assortativity_coefficient': -0.014241726537511075}\n",
      "{'num_nodes': 100, 'num_edges': 3297, 'average_degree': 57.72, 'avg_clustering_coefficient': 0.665681933809333, 'avg_path_length': 1.333939393939394, 'diameter': 2, 'avg_degree_centrality': 0.6660606060606062, 'avg_betweenness_centrality': 0.003407544836116264, 'density': 0.666060606060606, 'assortativity_coefficient': -0.00998119528928802}\n",
      "{'num_nodes': 100, 'num_edges': 3851, 'average_degree': 63.26, 'avg_clustering_coefficient': 0.7775193238891636, 'avg_path_length': 1.222020202020202, 'diameter': 2, 'avg_degree_centrality': 0.7779797979797979, 'avg_betweenness_centrality': 0.0022655122655122657, 'density': 0.777979797979798, 'assortativity_coefficient': -0.020812822968218007}\n",
      "{'num_nodes': 100, 'num_edges': 4342, 'average_degree': 68.17, 'avg_clustering_coefficient': 0.8765063718282026, 'avg_path_length': 1.1228282828282827, 'diameter': 2, 'avg_degree_centrality': 0.877171717171717, 'avg_betweenness_centrality': 0.0012533498247783961, 'density': 0.8771717171717172, 'assortativity_coefficient': -0.019413428088784695}\n",
      "{'num_nodes': 100, 'num_edges': 4950, 'average_degree': 74.25, 'avg_clustering_coefficient': 1.0, 'avg_path_length': 1.0, 'diameter': 1, 'avg_degree_centrality': 1.0, 'avg_betweenness_centrality': 0.0, 'density': 1.0, 'assortativity_coefficient': nan}\n",
      "{'num_nodes': 150, 'num_edges': 112, 'average_degree': 37.99666666666667, 'avg_clustering_coefficient': 0.01111111111111111, 'avg_path_length': None, 'diameter': None, 'avg_degree_centrality': 0.010022371364653242, 'avg_betweenness_centrality': 0.022615635769998185, 'density': 0.010022371364653244, 'assortativity_coefficient': -0.0018792753514262723}\n",
      "{'num_nodes': 150, 'num_edges': 1372, 'average_degree': 46.39666666666667, 'avg_clustering_coefficient': 0.12338861429430187, 'avg_path_length': 1.9694854586129753, 'diameter': 3, 'avg_degree_centrality': 0.12277404921700225, 'avg_betweenness_centrality': 0.006550577423060646, 'density': 0.12277404921700223, 'assortativity_coefficient': -0.04318732907437504}\n",
      "{'num_nodes': 150, 'num_edges': 2599, 'average_degree': 54.57666666666667, 'avg_clustering_coefficient': 0.23760322671580578, 'avg_path_length': 1.76751677852349, 'diameter': 3, 'avg_degree_centrality': 0.23257270693512302, 'avg_betweenness_centrality': 0.00518592417921277, 'density': 0.23257270693512305, 'assortativity_coefficient': -0.008610200746063772}\n",
      "{'num_nodes': 150, 'num_edges': 3829, 'average_degree': 62.776666666666664, 'avg_clustering_coefficient': 0.3409982008506708, 'avg_path_length': 1.6573601789709171, 'diameter': 2, 'avg_degree_centrality': 0.34263982102908275, 'avg_betweenness_centrality': 0.004441622830884576, 'density': 0.34263982102908275, 'assortativity_coefficient': -0.01221208455093057}\n",
      "{'num_nodes': 150, 'num_edges': 5060, 'average_degree': 70.98333333333333, 'avg_clustering_coefficient': 0.452317768597853, 'avg_path_length': 1.5472035794183445, 'diameter': 2, 'avg_degree_centrality': 0.4527964205816554, 'avg_betweenness_centrality': 0.0036973214825563815, 'density': 0.4527964205816555, 'assortativity_coefficient': -0.018165011844770974}\n",
      "{'num_nodes': 150, 'num_edges': 6277, 'average_degree': 79.09666666666666, 'avg_clustering_coefficient': 0.5612897045023172, 'avg_path_length': 1.4382997762863534, 'diameter': 2, 'avg_degree_centrality': 0.5617002237136465, 'avg_betweenness_centrality': 0.0029614849749077937, 'density': 0.5617002237136466, 'assortativity_coefficient': -0.009038627821025083}\n",
      "{'num_nodes': 150, 'num_edges': 7484, 'average_degree': 87.14333333333333, 'avg_clustering_coefficient': 0.6699200011958382, 'avg_path_length': 1.3302908277404921, 'diameter': 2, 'avg_degree_centrality': 0.6697091722595078, 'avg_betweenness_centrality': 0.0022316947820303526, 'density': 0.6697091722595079, 'assortativity_coefficient': -0.020183053991388433}\n",
      "{'num_nodes': 150, 'num_edges': 8720, 'average_degree': 95.38333333333334, 'avg_clustering_coefficient': 0.7794246089177695, 'avg_path_length': 1.2196868008948545, 'diameter': 2, 'avg_degree_centrality': 0.7803131991051454, 'avg_betweenness_centrality': 0.001484370276316585, 'density': 0.7803131991051454, 'assortativity_coefficient': -0.017155368347421564}\n",
      "{'num_nodes': 150, 'num_edges': 9918, 'average_degree': 103.37, 'avg_clustering_coefficient': 0.8880223959056995, 'avg_path_length': 1.1124832214765101, 'diameter': 2, 'avg_degree_centrality': 0.88751677852349, 'avg_betweenness_centrality': 0.0007600217667331762, 'density': 0.88751677852349, 'assortativity_coefficient': -0.01729904217518862}\n",
      "{'num_nodes': 150, 'num_edges': 11175, 'average_degree': 111.75, 'avg_clustering_coefficient': 1.0, 'avg_path_length': 1.0, 'diameter': 1, 'avg_degree_centrality': 1.0, 'avg_betweenness_centrality': 0.0, 'density': 1.0, 'assortativity_coefficient': nan}\n",
      "{'num_nodes': 200, 'num_edges': 217, 'average_degree': 50.835, 'avg_clustering_coefficient': 0.0, 'avg_path_length': None, 'diameter': None, 'avg_degree_centrality': 0.010904522613065326, 'avg_betweenness_centrality': 0.017886401705497185, 'density': 0.010904522613065327, 'assortativity_coefficient': 0.05390408244153782}\n",
      "{'num_nodes': 200, 'num_edges': 2338, 'average_degree': 61.44, 'avg_clustering_coefficient': 0.1172257093507201, 'avg_path_length': 1.9360804020100502, 'diameter': 3, 'avg_degree_centrality': 0.11748743718592966, 'avg_betweenness_centrality': 0.0047276787980305565, 'density': 0.11748743718592965, 'assortativity_coefficient': -0.024870633014617262}\n",
      "{'num_nodes': 200, 'num_edges': 4622, 'average_degree': 72.86, 'avg_clustering_coefficient': 0.23202203536729946, 'avg_path_length': 1.7677386934673367, 'diameter': 2, 'avg_degree_centrality': 0.2322613065326633, 'avg_betweenness_centrality': 0.003877468148824933, 'density': 0.2322613065326633, 'assortativity_coefficient': -0.029352121929390684}\n",
      "{'num_nodes': 200, 'num_edges': 6770, 'average_degree': 83.6, 'avg_clustering_coefficient': 0.33944589531920544, 'avg_path_length': 1.6597989949748744, 'diameter': 2, 'avg_degree_centrality': 0.3402010050251256, 'avg_betweenness_centrality': 0.0033323181564387594, 'density': 0.3402010050251256, 'assortativity_coefficient': -0.023567846222700185}\n",
      "{'num_nodes': 200, 'num_edges': 8989, 'average_degree': 94.695, 'avg_clustering_coefficient': 0.4512300875820137, 'avg_path_length': 1.5482914572864321, 'diameter': 2, 'avg_degree_centrality': 0.4517085427135678, 'avg_betweenness_centrality': 0.0027691487741738994, 'density': 0.45170854271356786, 'assortativity_coefficient': -0.019790563129459673}\n",
      "{'num_nodes': 200, 'num_edges': 11178, 'average_degree': 105.64, 'avg_clustering_coefficient': 0.562186701177285, 'avg_path_length': 1.4382914572864323, 'diameter': 2, 'avg_degree_centrality': 0.5617085427135678, 'avg_betweenness_centrality': 0.002213593218618344, 'density': 0.5617085427135678, 'assortativity_coefficient': 0.005347455980250386}\n",
      "{'num_nodes': 200, 'num_edges': 13411, 'average_degree': 116.805, 'avg_clustering_coefficient': 0.6736360457883345, 'avg_path_length': 1.3260804020100503, 'diameter': 2, 'avg_degree_centrality': 0.6739195979899497, 'avg_betweenness_centrality': 0.0016468707172224762, 'density': 0.6739195979899497, 'assortativity_coefficient': -0.00778757365643987}\n",
      "{'num_nodes': 200, 'num_edges': 15606, 'average_degree': 127.78, 'avg_clustering_coefficient': 0.7842264249997093, 'avg_path_length': 1.2157788944723618, 'diameter': 2, 'avg_degree_centrality': 0.7842211055276382, 'avg_betweenness_centrality': 0.0010897923963250596, 'density': 0.7842211055276382, 'assortativity_coefficient': -0.0013010070494578624}\n",
      "{'num_nodes': 200, 'num_edges': 17755, 'average_degree': 138.525, 'avg_clustering_coefficient': 0.8921010773379624, 'avg_path_length': 1.107788944723618, 'diameter': 2, 'avg_degree_centrality': 0.892211055276382, 'avg_betweenness_centrality': 0.000544388609715243, 'density': 0.8922110552763819, 'assortativity_coefficient': -0.009243022792984662}\n",
      "{'num_nodes': 200, 'num_edges': 19900, 'average_degree': 149.25, 'avg_clustering_coefficient': 1.0, 'avg_path_length': 1.0, 'diameter': 1, 'avg_degree_centrality': 1.0, 'avg_betweenness_centrality': 0.0, 'density': 1.0, 'assortativity_coefficient': nan}\n",
      "{'num_nodes': 250, 'num_edges': 308, 'average_degree': 63.482, 'avg_clustering_coefficient': 0.0, 'avg_path_length': None, 'diameter': None, 'avg_degree_centrality': 0.00989558232931727, 'avg_betweenness_centrality': 0.01593250421038995, 'density': 0.00989558232931727, 'assortativity_coefficient': -0.031555106662993375}\n",
      "{'num_nodes': 250, 'num_edges': 3682, 'average_degree': 76.978, 'avg_clustering_coefficient': 0.11894815411500885, 'avg_path_length': 1.9086907630522087, 'diameter': 3, 'avg_degree_centrality': 0.11829718875502007, 'avg_betweenness_centrality': 0.003664075657468584, 'density': 0.11829718875502009, 'assortativity_coefficient': -0.03181984247017737}\n",
      "{'num_nodes': 250, 'num_edges': 7162, 'average_degree': 90.898, 'avg_clustering_coefficient': 0.22823228088492722, 'avg_path_length': 1.7698955823293172, 'diameter': 2, 'avg_degree_centrality': 0.2301044176706827, 'avg_betweenness_centrality': 0.0031044176706827315, 'density': 0.23010441767068274, 'assortativity_coefficient': 0.015545743310074418}\n",
      "{'num_nodes': 250, 'num_edges': 10700, 'average_degree': 105.05, 'avg_clustering_coefficient': 0.34352936608031587, 'avg_path_length': 1.6562248995983935, 'diameter': 2, 'avg_degree_centrality': 0.34377510040160636, 'avg_betweenness_centrality': 0.0026460681435419094, 'density': 0.3437751004016064, 'assortativity_coefficient': -0.010508309288283514}\n",
      "{'num_nodes': 250, 'num_edges': 14153, 'average_degree': 118.862, 'avg_clustering_coefficient': 0.4547794990504988, 'avg_path_length': 1.545285140562249, 'diameter': 2, 'avg_degree_centrality': 0.4547148594377509, 'avg_betweenness_centrality': 0.0021987304054929394, 'density': 0.45471485943775103, 'assortativity_coefficient': -0.008976935018222346}\n",
      "{'num_nodes': 250, 'num_edges': 17446, 'average_degree': 132.034, 'avg_clustering_coefficient': 0.5604689633562877, 'avg_path_length': 1.4394859437751004, 'diameter': 2, 'avg_degree_centrality': 0.5605140562248996, 'avg_betweenness_centrality': 0.0017721207410286302, 'density': 0.5605140562248996, 'assortativity_coefficient': -0.009546695003594122}\n",
      "{'num_nodes': 250, 'num_edges': 20914, 'average_degree': 145.906, 'avg_clustering_coefficient': 0.6720045782612244, 'avg_path_length': 1.3280642570281125, 'diameter': 2, 'avg_degree_centrality': 0.6719357429718875, 'avg_betweenness_centrality': 0.0013228397460810987, 'density': 0.6719357429718875, 'assortativity_coefficient': -0.008274145207808087}\n",
      "{'num_nodes': 250, 'num_edges': 24308, 'average_degree': 159.482, 'avg_clustering_coefficient': 0.7810836448611972, 'avg_path_length': 1.2190200803212852, 'diameter': 2, 'avg_degree_centrality': 0.7809799196787148, 'avg_betweenness_centrality': 0.0008831454851664723, 'density': 0.7809799196787148, 'assortativity_coefficient': -0.004817001361145499}\n",
      "{'num_nodes': 250, 'num_edges': 27714, 'average_degree': 173.106, 'avg_clustering_coefficient': 0.8902797161851319, 'avg_path_length': 1.1095903614457832, 'diameter': 2, 'avg_degree_centrality': 0.8904096385542168, 'avg_betweenness_centrality': 0.0004418966187329965, 'density': 0.8904096385542168, 'assortativity_coefficient': -0.004588429119753043}\n",
      "{'num_nodes': 250, 'num_edges': 31125, 'average_degree': 186.75, 'avg_clustering_coefficient': 1.0, 'avg_path_length': 1.0, 'diameter': 1, 'avg_degree_centrality': 0.9999999999999998, 'avg_betweenness_centrality': 0.0, 'density': 1.0, 'assortativity_coefficient': nan}\n",
      "{'num_nodes': 300, 'num_edges': 463, 'average_degree': 76.29333333333334, 'avg_clustering_coefficient': 0.010566137566137565, 'avg_path_length': None, 'diameter': None, 'avg_degree_centrality': 0.010323299888517278, 'avg_betweenness_centrality': 0.011524919006681482, 'density': 0.01032329988851728, 'assortativity_coefficient': -0.010590291865693439}\n",
      "{'num_nodes': 300, 'num_edges': 5359, 'average_degree': 92.61333333333333, 'avg_clustering_coefficient': 0.11978649712946039, 'avg_path_length': 1.892463768115942, 'diameter': 3, 'avg_degree_centrality': 0.11948717948717952, 'avg_betweenness_centrality': 0.0029948448594494703, 'density': 0.11948717948717949, 'assortativity_coefficient': -0.023723775715711614}\n",
      "{'num_nodes': 300, 'num_edges': 10360, 'average_degree': 109.28333333333333, 'avg_clustering_coefficient': 0.2298116408496162, 'avg_path_length': 1.7690078037904124, 'diameter': 2, 'avg_degree_centrality': 0.23099219620958752, 'avg_betweenness_centrality': 0.0025805630999678267, 'density': 0.23099219620958752, 'assortativity_coefficient': -0.0054329893812632086}\n",
      "{'num_nodes': 300, 'num_edges': 15143, 'average_degree': 125.22666666666667, 'avg_clustering_coefficient': 0.33756534400627214, 'avg_path_length': 1.6623634336677815, 'diameter': 2, 'avg_degree_centrality': 0.3376365663322185, 'avg_betweenness_centrality': 0.002222696086133494, 'density': 0.3376365663322185, 'assortativity_coefficient': -0.0012318011652400962}\n",
      "{'num_nodes': 300, 'num_edges': 20268, 'average_degree': 142.31, 'avg_clustering_coefficient': 0.4522297638597117, 'avg_path_length': 1.5480936454849499, 'diameter': 2, 'avg_degree_centrality': 0.4519063545150502, 'avg_betweenness_centrality': 0.0018392404210904349, 'density': 0.4519063545150502, 'assortativity_coefficient': -0.003817534778036982}\n",
      "{'num_nodes': 300, 'num_edges': 25247, 'average_degree': 158.90666666666667, 'avg_clustering_coefficient': 0.5626169732155295, 'avg_path_length': 1.4370791527313267, 'diameter': 2, 'avg_degree_centrality': 0.5629208472686733, 'avg_betweenness_centrality': 0.0014667085662125052, 'density': 0.5629208472686733, 'assortativity_coefficient': -0.012404953619900804}\n",
      "{'num_nodes': 300, 'num_edges': 30099, 'average_degree': 175.08, 'avg_clustering_coefficient': 0.6713279998490791, 'avg_path_length': 1.328896321070234, 'diameter': 2, 'avg_degree_centrality': 0.6711036789297659, 'avg_betweenness_centrality': 0.0011036789297658863, 'density': 0.6711036789297659, 'assortativity_coefficient': -0.007049515255507616}\n",
      "{'num_nodes': 300, 'num_edges': 35064, 'average_degree': 191.63, 'avg_clustering_coefficient': 0.7816047565228375, 'avg_path_length': 1.2181939799331103, 'diameter': 2, 'avg_degree_centrality': 0.7818060200668896, 'avg_betweenness_centrality': 0.0007321945635339273, 'density': 0.7818060200668896, 'assortativity_coefficient': -0.006545386949285103}\n",
      "{'num_nodes': 300, 'num_edges': 39941, 'average_degree': 207.88666666666666, 'avg_clustering_coefficient': 0.8906129789476362, 'avg_path_length': 1.109453734671126, 'diameter': 2, 'avg_degree_centrality': 0.890546265328874, 'avg_betweenness_centrality': 0.0003672944116480738, 'density': 0.890546265328874, 'assortativity_coefficient': -0.005104113005774186}\n",
      "{'num_nodes': 300, 'num_edges': 44850, 'average_degree': 224.25, 'avg_clustering_coefficient': 1.0, 'avg_path_length': 1.0, 'diameter': 1, 'avg_degree_centrality': 1.0, 'avg_betweenness_centrality': 0.0, 'density': 1.0, 'assortativity_coefficient': nan}\n",
      "{'num_nodes': 350, 'num_edges': 605, 'average_degree': 88.97857142857143, 'avg_clustering_coefficient': 0.0027619047619047614, 'avg_path_length': None, 'diameter': None, 'avg_degree_centrality': 0.009905853458862055, 'avg_betweenness_centrality': 0.009790534532160854, 'density': 0.009905853458862055, 'assortativity_coefficient': -0.008939874128009354}\n",
      "{'num_nodes': 350, 'num_edges': 7363, 'average_degree': 108.28714285714285, 'avg_clustering_coefficient': 0.1200615789249304, 'avg_path_length': 1.8848137535816618, 'diameter': 3, 'avg_degree_centrality': 0.12055669259107654, 'avg_betweenness_centrality': 0.0025425682574185685, 'density': 0.12055669259107654, 'assortativity_coefficient': -0.008478944536049436}\n",
      "{'num_nodes': 350, 'num_edges': 13922, 'average_degree': 127.02714285714286, 'avg_clustering_coefficient': 0.22775284403061644, 'avg_path_length': 1.772050757265657, 'diameter': 2, 'avg_degree_centrality': 0.22794924273434305, 'avg_betweenness_centrality': 0.0022185366588093583, 'density': 0.22794924273434303, 'assortativity_coefficient': 0.009139554166500682}\n",
      "{'num_nodes': 350, 'num_edges': 20947, 'average_degree': 147.09857142857143, 'avg_clustering_coefficient': 0.34402902710280386, 'avg_path_length': 1.6570282439623414, 'diameter': 2, 'avg_degree_centrality': 0.3429717560376586, 'avg_betweenness_centrality': 0.0018880121952940833, 'density': 0.3429717560376586, 'assortativity_coefficient': -0.011946960399564407}\n",
      "{'num_nodes': 350, 'num_edges': 27603, 'average_degree': 166.1157142857143, 'avg_clustering_coefficient': 0.45258840442625187, 'avg_path_length': 1.5480474826033566, 'diameter': 2, 'avg_degree_centrality': 0.45195251739664344, 'avg_betweenness_centrality': 0.001574849087940679, 'density': 0.4519525173966435, 'assortativity_coefficient': -0.009550588353164018}\n",
      "{'num_nodes': 350, 'num_edges': 34270, 'average_degree': 185.1642857142857, 'avg_clustering_coefficient': 0.5614636824415685, 'avg_path_length': 1.438886614817847, 'diameter': 2, 'avg_degree_centrality': 0.561113385182153, 'avg_betweenness_centrality': 0.0012611684333846173, 'density': 0.5611133851821531, 'assortativity_coefficient': -0.0042855264198090855}\n",
      "{'num_nodes': 350, 'num_edges': 41187, 'average_degree': 204.92714285714285, 'avg_clustering_coefficient': 0.674312882707086, 'avg_path_length': 1.3256324191567745, 'diameter': 2, 'avg_degree_centrality': 0.6743675808432256, 'avg_betweenness_centrality': 0.000935725342404524, 'density': 0.6743675808432256, 'assortativity_coefficient': -0.00018746123964441208}\n",
      "{'num_nodes': 350, 'num_edges': 47591, 'average_degree': 223.2242857142857, 'avg_clustering_coefficient': 0.7793147093762376, 'avg_path_length': 1.2207777322963569, 'diameter': 2, 'avg_degree_centrality': 0.779222267703643, 'avg_betweenness_centrality': 0.000634418770966543, 'density': 0.7792222677036431, 'assortativity_coefficient': -0.004475814380054262}\n",
      "{'num_nodes': 350, 'num_edges': 54216, 'average_degree': 242.15285714285713, 'avg_clustering_coefficient': 0.8877275160698754, 'avg_path_length': 1.1123045435939418, 'diameter': 2, 'avg_degree_centrality': 0.8876954564060582, 'avg_betweenness_centrality': 0.000322714205729718, 'density': 0.8876954564060581, 'assortativity_coefficient': -0.008781777915716795}\n",
      "{'num_nodes': 350, 'num_edges': 61075, 'average_degree': 261.75, 'avg_clustering_coefficient': 1.0, 'avg_path_length': 1.0, 'diameter': 1, 'avg_degree_centrality': 1.0, 'avg_betweenness_centrality': 0.0, 'density': 1.0, 'assortativity_coefficient': nan}\n",
      "{'num_nodes': 400, 'num_edges': 823, 'average_degree': 101.8075, 'avg_clustering_coefficient': 0.011331529581529583, 'avg_path_length': None, 'diameter': None, 'avg_degree_centrality': 0.01031328320802005, 'avg_betweenness_centrality': 0.00827738315638342, 'density': 0.01031328320802005, 'assortativity_coefficient': -0.047533382991479654}\n",
      "{'num_nodes': 400, 'num_edges': 9734, 'average_degree': 124.085, 'avg_clustering_coefficient': 0.12143838494006765, 'avg_path_length': 1.8800250626566417, 'diameter': 3, 'avg_degree_centrality': 0.12197994987468672, 'avg_betweenness_centrality': 0.0022111182478810093, 'density': 0.12197994987468672, 'assortativity_coefficient': -0.008364332284986887}\n",
      "{'num_nodes': 400, 'num_edges': 18269, 'average_degree': 145.4225, 'avg_clustering_coefficient': 0.229009873534491, 'avg_path_length': 1.7710651629072682, 'diameter': 2, 'avg_degree_centrality': 0.22893483709273185, 'avg_betweenness_centrality': 0.0019373496555458996, 'density': 0.22893483709273182, 'assortativity_coefficient': 9.936319076945648e-05}\n",
      "{'num_nodes': 400, 'num_edges': 26982, 'average_degree': 167.205, 'avg_clustering_coefficient': 0.33793275658980476, 'avg_path_length': 1.6618796992481204, 'diameter': 2, 'avg_degree_centrality': 0.3381203007518796, 'avg_betweenness_centrality': 0.0016630143197188946, 'density': 0.3381203007518797, 'assortativity_coefficient': -0.010303210447284524}\n",
      "{'num_nodes': 400, 'num_edges': 35917, 'average_degree': 189.5425, 'avg_clustering_coefficient': 0.4501008419467024, 'avg_path_length': 1.5499122807017545, 'diameter': 2, 'avg_degree_centrality': 0.4500877192982456, 'avg_betweenness_centrality': 0.0013816891474918447, 'density': 0.4500877192982456, 'assortativity_coefficient': -0.004366485944163429}\n",
      "{'num_nodes': 400, 'num_edges': 44687, 'average_degree': 211.4675, 'avg_clustering_coefficient': 0.5604885113103198, 'avg_path_length': 1.4400125313283207, 'diameter': 2, 'avg_degree_centrality': 0.5599874686716791, 'avg_betweenness_centrality': 0.0011055591239405044, 'density': 0.5599874686716791, 'assortativity_coefficient': -0.0031854513199284433}\n",
      "{'num_nodes': 400, 'num_edges': 53402, 'average_degree': 233.255, 'avg_clustering_coefficient': 0.6690981056032319, 'avg_path_length': 1.3308020050125313, 'diameter': 2, 'avg_degree_centrality': 0.6691979949874687, 'avg_betweenness_centrality': 0.0008311608166144002, 'density': 0.6691979949874687, 'assortativity_coefficient': -0.0064123479892680395}\n",
      "{'num_nodes': 400, 'num_edges': 62213, 'average_degree': 255.2825, 'avg_clustering_coefficient': 0.7795466406752323, 'avg_path_length': 1.220388471177945, 'diameter': 2, 'avg_degree_centrality': 0.7796115288220551, 'avg_betweenness_centrality': 0.0005537398773315199, 'density': 0.7796115288220551, 'assortativity_coefficient': -0.004542903057459587}\n",
      "{'num_nodes': 400, 'num_edges': 71004, 'average_degree': 277.26, 'avg_clustering_coefficient': 0.8897028853408938, 'avg_path_length': 1.1102255639097744, 'diameter': 2, 'avg_degree_centrality': 0.8897744360902254, 'avg_betweenness_centrality': 0.0002769486530396343, 'density': 0.8897744360902256, 'assortativity_coefficient': -0.004526424567475119}\n",
      "{'num_nodes': 400, 'num_edges': 79800, 'average_degree': 299.25, 'avg_clustering_coefficient': 1.0, 'avg_path_length': 1.0, 'diameter': 1, 'avg_degree_centrality': 1.0, 'avg_betweenness_centrality': 0.0, 'density': 1.0, 'assortativity_coefficient': nan}\n",
      "{'num_nodes': 450, 'num_edges': 990, 'average_degree': 114.45, 'avg_clustering_coefficient': 0.007151675485008818, 'avg_path_length': None, 'diameter': None, 'avg_degree_centrality': 0.009799554565701559, 'avg_betweenness_centrality': 0.007048158164527875, 'density': 0.009799554565701559, 'assortativity_coefficient': -0.002563372258615074}\n",
      "{'num_nodes': 450, 'num_edges': 12089, 'average_degree': 139.11444444444444, 'avg_clustering_coefficient': 0.11984617062564724, 'avg_path_length': 1.881563969314526, 'diameter': 3, 'avg_degree_centrality': 0.11966344964117792, 'avg_betweenness_centrality': 0.001967776717219924, 'density': 0.11966344964117792, 'assortativity_coefficient': -0.00535926780444743}\n",
      "{'num_nodes': 450, 'num_edges': 23407, 'average_degree': 164.26555555555555, 'avg_clustering_coefficient': 0.23140173371537745, 'avg_path_length': 1.768304875030933, 'diameter': 2, 'avg_degree_centrality': 0.23169512496906702, 'avg_betweenness_centrality': 0.001714966238908332, 'density': 0.23169512496906705, 'assortativity_coefficient': 0.007533581168317942}\n",
      "{'num_nodes': 450, 'num_edges': 34239, 'average_degree': 188.33666666666667, 'avg_clustering_coefficient': 0.33929592798524133, 'avg_path_length': 1.6610838901262064, 'diameter': 2, 'avg_degree_centrality': 0.33891610987379356, 'avg_betweenness_centrality': 0.0014756336833174242, 'density': 0.3389161098737936, 'assortativity_coefficient': -0.0045575574590809124}\n",
      "{'num_nodes': 450, 'num_edges': 45461, 'average_degree': 213.27444444444444, 'avg_clustering_coefficient': 0.44963638201271894, 'avg_path_length': 1.5500024746349914, 'diameter': 2, 'avg_degree_centrality': 0.44999752536500864, 'avg_betweenness_centrality': 0.001227684095167391, 'density': 0.44999752536500864, 'assortativity_coefficient': -0.0018131165517255377}\n",
      "{'num_nodes': 450, 'num_edges': 56702, 'average_degree': 238.25444444444443, 'avg_clustering_coefficient': 0.5612059540610785, 'avg_path_length': 1.4387329868844345, 'diameter': 2, 'avg_degree_centrality': 0.5612670131155655, 'avg_betweenness_centrality': 0.000979314702867041, 'density': 0.5612670131155655, 'assortativity_coefficient': -0.007957370224443818}\n",
      "{'num_nodes': 450, 'num_edges': 67220, 'average_degree': 261.6277777777778, 'avg_clustering_coefficient': 0.6654541756983872, 'avg_path_length': 1.3346201435288294, 'diameter': 2, 'avg_degree_centrality': 0.6653798564711704, 'avg_betweenness_centrality': 0.0007469199632339943, 'density': 0.6653798564711705, 'assortativity_coefficient': -0.00474167411134127}\n",
      "{'num_nodes': 450, 'num_edges': 78672, 'average_degree': 287.07666666666665, 'avg_clustering_coefficient': 0.7786195223682097, 'avg_path_length': 1.2212620638455827, 'diameter': 2, 'avg_degree_centrality': 0.7787379361544173, 'avg_betweenness_centrality': 0.0004938885353696044, 'density': 0.7787379361544172, 'assortativity_coefficient': -0.002553835079593478}\n",
      "{'num_nodes': 450, 'num_edges': 89946, 'average_degree': 312.13, 'avg_clustering_coefficient': 0.8903808537569414, 'avg_path_length': 1.1096659242761693, 'diameter': 2, 'avg_degree_centrality': 0.8903340757238308, 'avg_betweenness_centrality': 0.0002447900095450207, 'density': 0.8903340757238307, 'assortativity_coefficient': -0.004793053658990152}\n",
      "{'num_nodes': 450, 'num_edges': 101025, 'average_degree': 336.75, 'avg_clustering_coefficient': 1.0, 'avg_path_length': 1.0, 'diameter': 1, 'avg_degree_centrality': 1.0, 'avg_betweenness_centrality': 0.0, 'density': 1.0, 'assortativity_coefficient': nan}\n",
      "{'num_nodes': 500, 'num_edges': 1255, 'average_degree': 127.26, 'avg_clustering_coefficient': 0.008744400044400044, 'avg_path_length': None, 'diameter': None, 'avg_degree_centrality': 0.01006012024048096, 'avg_betweenness_centrality': 0.006040707921867832, 'density': 0.010060120240480962, 'assortativity_coefficient': -0.00273671171100844}\n",
      "{'num_nodes': 500, 'num_edges': 14901, 'average_degree': 154.552, 'avg_clustering_coefficient': 0.11962708819122614, 'avg_path_length': 1.88137875751503, 'diameter': 3, 'avg_degree_centrality': 0.11944689378757513, 'avg_betweenness_centrality': 0.0017698368624799797, 'density': 0.11944689378757516, 'assortativity_coefficient': -0.0006336021041514243}\n",
      "{'num_nodes': 500, 'num_edges': 28818, 'average_degree': 182.386, 'avg_clustering_coefficient': 0.23089140373659597, 'avg_path_length': 1.768993987975952, 'diameter': 2, 'avg_degree_centrality': 0.23100601202404805, 'avg_betweenness_centrality': 0.0015441646344898628, 'density': 0.2310060120240481, 'assortativity_coefficient': -0.006744656996929405}\n",
      "{'num_nodes': 500, 'num_edges': 42231, 'average_degree': 209.212, 'avg_clustering_coefficient': 0.3386963226978261, 'avg_path_length': 1.6614749498997996, 'diameter': 2, 'avg_degree_centrality': 0.33852505010020034, 'avg_betweenness_centrality': 0.0013282629516060225, 'density': 0.3385250501002004, 'assortativity_coefficient': -0.0075996728347068}\n",
      "{'num_nodes': 500, 'num_edges': 55997, 'average_degree': 236.744, 'avg_clustering_coefficient': 0.44855769674985985, 'avg_path_length': 1.55112625250501, 'diameter': 2, 'avg_degree_centrality': 0.4488737474949899, 'avg_betweenness_centrality': 0.0011066792218976103, 'density': 0.44887374749499, 'assortativity_coefficient': -0.0034813145095587295}\n",
      "{'num_nodes': 500, 'num_edges': 69993, 'average_degree': 264.736, 'avg_clustering_coefficient': 0.561042509673542, 'avg_path_length': 1.438933867735471, 'diameter': 2, 'avg_degree_centrality': 0.561066132264529, 'avg_betweenness_centrality': 0.0008813933087057649, 'density': 0.5610661322645291, 'assortativity_coefficient': -0.0057607643438473775}\n",
      "{'num_nodes': 500, 'num_edges': 83995, 'average_degree': 292.74, 'avg_clustering_coefficient': 0.6730785399021889, 'avg_path_length': 1.326693386773547, 'diameter': 2, 'avg_degree_centrality': 0.6733066132264529, 'avg_betweenness_centrality': 0.0006560108168143513, 'density': 0.6733066132264529, 'assortativity_coefficient': -0.007219916989957419}\n",
      "{'num_nodes': 500, 'num_edges': 97258, 'average_degree': 319.266, 'avg_clustering_coefficient': 0.7797006363460428, 'avg_path_length': 1.220376753507014, 'diameter': 2, 'avg_degree_centrality': 0.7796232464929858, 'avg_betweenness_centrality': 0.0004425236014197068, 'density': 0.779623246492986, 'assortativity_coefficient': -0.0034228153853725967}\n",
      "{'num_nodes': 500, 'num_edges': 111124, 'average_degree': 346.998, 'avg_clustering_coefficient': 0.8908200166968907, 'avg_path_length': 1.1092264529058116, 'diameter': 2, 'avg_degree_centrality': 0.8907735470941882, 'avg_betweenness_centrality': 0.00021933022671849722, 'density': 0.8907735470941883, 'assortativity_coefficient': -0.00382442381714931}\n",
      "{'num_nodes': 500, 'num_edges': 124750, 'average_degree': 374.25, 'avg_clustering_coefficient': 1.0, 'avg_path_length': 1.0, 'diameter': 1, 'avg_degree_centrality': 0.9999999999999998, 'avg_betweenness_centrality': 0.0, 'density': 1.0, 'assortativity_coefficient': nan}\n"
     ]
    }
   ],
   "source": [
    "node_range = np.linspace(50, 500, 10)\n",
    "p_values = np.linspace(0.01, 1, 10)\n",
    "\n",
    "results_ER = []\n",
    "\n",
    "for nodes in node_range:\n",
    "    nodes = int(nodes)\n",
    "    for p in p_values:\n",
    "        Graph_ER = nx.erdos_renyi_graph(nodes, p)\n",
    "        stats_ER = compute_network_statistics(Graph_ER)\n",
    "        results_ER.append(stats_ER)\n",
    "\n",
    "# convert to dataframe\n",
    "df_ER = pd.DataFrame(results_ER)"
   ]
  },
  {
   "cell_type": "code",
   "execution_count": 82,
   "metadata": {},
   "outputs": [
    {
     "data": {
      "text/html": [
       "<div>\n",
       "<style scoped>\n",
       "    .dataframe tbody tr th:only-of-type {\n",
       "        vertical-align: middle;\n",
       "    }\n",
       "\n",
       "    .dataframe tbody tr th {\n",
       "        vertical-align: top;\n",
       "    }\n",
       "\n",
       "    .dataframe thead tr th {\n",
       "        text-align: left;\n",
       "    }\n",
       "\n",
       "    .dataframe thead tr:last-of-type th {\n",
       "        text-align: right;\n",
       "    }\n",
       "</style>\n",
       "<table border=\"1\" class=\"dataframe\">\n",
       "  <thead>\n",
       "    <tr>\n",
       "      <th></th>\n",
       "      <th colspan=\"6\" halign=\"left\">num_edges</th>\n",
       "      <th colspan=\"4\" halign=\"left\">average_degree</th>\n",
       "      <th>...</th>\n",
       "      <th colspan=\"4\" halign=\"left\">density</th>\n",
       "      <th colspan=\"6\" halign=\"left\">assortativity_coefficient</th>\n",
       "    </tr>\n",
       "    <tr>\n",
       "      <th></th>\n",
       "      <th>mean</th>\n",
       "      <th>std</th>\n",
       "      <th>median</th>\n",
       "      <th>min</th>\n",
       "      <th>max</th>\n",
       "      <th>var</th>\n",
       "      <th>mean</th>\n",
       "      <th>std</th>\n",
       "      <th>median</th>\n",
       "      <th>min</th>\n",
       "      <th>...</th>\n",
       "      <th>median</th>\n",
       "      <th>min</th>\n",
       "      <th>max</th>\n",
       "      <th>var</th>\n",
       "      <th>mean</th>\n",
       "      <th>std</th>\n",
       "      <th>median</th>\n",
       "      <th>min</th>\n",
       "      <th>max</th>\n",
       "      <th>var</th>\n",
       "    </tr>\n",
       "    <tr>\n",
       "      <th>num_nodes</th>\n",
       "      <th></th>\n",
       "      <th></th>\n",
       "      <th></th>\n",
       "      <th></th>\n",
       "      <th></th>\n",
       "      <th></th>\n",
       "      <th></th>\n",
       "      <th></th>\n",
       "      <th></th>\n",
       "      <th></th>\n",
       "      <th></th>\n",
       "      <th></th>\n",
       "      <th></th>\n",
       "      <th></th>\n",
       "      <th></th>\n",
       "      <th></th>\n",
       "      <th></th>\n",
       "      <th></th>\n",
       "      <th></th>\n",
       "      <th></th>\n",
       "      <th></th>\n",
       "    </tr>\n",
       "  </thead>\n",
       "  <tbody>\n",
       "    <tr>\n",
       "      <th>50</th>\n",
       "      <td>623.2</td>\n",
       "      <td>404.943288</td>\n",
       "      <td>620.5</td>\n",
       "      <td>19</td>\n",
       "      <td>1225</td>\n",
       "      <td>1.639791e+05</td>\n",
       "      <td>24.928000</td>\n",
       "      <td>16.197732</td>\n",
       "      <td>24.820000</td>\n",
       "      <td>0.760000</td>\n",
       "      <td>...</td>\n",
       "      <td>0.506531</td>\n",
       "      <td>0.015510</td>\n",
       "      <td>1.0</td>\n",
       "      <td>0.109274</td>\n",
       "      <td>0.007638</td>\n",
       "      <td>0.131254</td>\n",
       "      <td>-0.040846</td>\n",
       "      <td>-0.066861</td>\n",
       "      <td>0.344828</td>\n",
       "      <td>0.017228</td>\n",
       "    </tr>\n",
       "    <tr>\n",
       "      <th>100</th>\n",
       "      <td>2504.4</td>\n",
       "      <td>1654.990245</td>\n",
       "      <td>2509.5</td>\n",
       "      <td>37</td>\n",
       "      <td>4950</td>\n",
       "      <td>2.738993e+06</td>\n",
       "      <td>50.088000</td>\n",
       "      <td>33.099805</td>\n",
       "      <td>50.190000</td>\n",
       "      <td>0.740000</td>\n",
       "      <td>...</td>\n",
       "      <td>0.506970</td>\n",
       "      <td>0.007475</td>\n",
       "      <td>1.0</td>\n",
       "      <td>0.111784</td>\n",
       "      <td>-0.029997</td>\n",
       "      <td>0.035490</td>\n",
       "      <td>-0.019346</td>\n",
       "      <td>-0.110766</td>\n",
       "      <td>0.012692</td>\n",
       "      <td>0.001260</td>\n",
       "    </tr>\n",
       "    <tr>\n",
       "      <th>150</th>\n",
       "      <td>5654.5</td>\n",
       "      <td>3728.778628</td>\n",
       "      <td>5643.5</td>\n",
       "      <td>101</td>\n",
       "      <td>11175</td>\n",
       "      <td>1.390379e+07</td>\n",
       "      <td>75.393333</td>\n",
       "      <td>49.717048</td>\n",
       "      <td>75.246667</td>\n",
       "      <td>1.346667</td>\n",
       "      <td>...</td>\n",
       "      <td>0.505011</td>\n",
       "      <td>0.009038</td>\n",
       "      <td>1.0</td>\n",
       "      <td>0.111337</td>\n",
       "      <td>-0.030634</td>\n",
       "      <td>0.033302</td>\n",
       "      <td>-0.015680</td>\n",
       "      <td>-0.103396</td>\n",
       "      <td>-0.008161</td>\n",
       "      <td>0.001109</td>\n",
       "    </tr>\n",
       "    <tr>\n",
       "      <th>200</th>\n",
       "      <td>10074.6</td>\n",
       "      <td>6625.624267</td>\n",
       "      <td>10122.5</td>\n",
       "      <td>218</td>\n",
       "      <td>19900</td>\n",
       "      <td>4.389890e+07</td>\n",
       "      <td>100.746000</td>\n",
       "      <td>66.256243</td>\n",
       "      <td>101.225000</td>\n",
       "      <td>2.180000</td>\n",
       "      <td>...</td>\n",
       "      <td>0.508668</td>\n",
       "      <td>0.010955</td>\n",
       "      <td>1.0</td>\n",
       "      <td>0.110853</td>\n",
       "      <td>0.000637</td>\n",
       "      <td>0.011862</td>\n",
       "      <td>-0.003528</td>\n",
       "      <td>-0.010337</td>\n",
       "      <td>0.020518</td>\n",
       "      <td>0.000141</td>\n",
       "    </tr>\n",
       "    <tr>\n",
       "      <th>250</th>\n",
       "      <td>15730.6</td>\n",
       "      <td>10365.289461</td>\n",
       "      <td>15708.5</td>\n",
       "      <td>315</td>\n",
       "      <td>31125</td>\n",
       "      <td>1.074392e+08</td>\n",
       "      <td>125.844800</td>\n",
       "      <td>82.922316</td>\n",
       "      <td>125.668000</td>\n",
       "      <td>2.520000</td>\n",
       "      <td>...</td>\n",
       "      <td>0.504691</td>\n",
       "      <td>0.010120</td>\n",
       "      <td>1.0</td>\n",
       "      <td>0.110903</td>\n",
       "      <td>-0.007586</td>\n",
       "      <td>0.005397</td>\n",
       "      <td>-0.009314</td>\n",
       "      <td>-0.013150</td>\n",
       "      <td>0.001817</td>\n",
       "      <td>0.000029</td>\n",
       "    </tr>\n",
       "    <tr>\n",
       "      <th>300</th>\n",
       "      <td>22643.8</td>\n",
       "      <td>14951.401434</td>\n",
       "      <td>22678.0</td>\n",
       "      <td>440</td>\n",
       "      <td>44850</td>\n",
       "      <td>2.235444e+08</td>\n",
       "      <td>150.958667</td>\n",
       "      <td>99.676010</td>\n",
       "      <td>151.186667</td>\n",
       "      <td>2.933333</td>\n",
       "      <td>...</td>\n",
       "      <td>0.505641</td>\n",
       "      <td>0.009810</td>\n",
       "      <td>1.0</td>\n",
       "      <td>0.111132</td>\n",
       "      <td>-0.002808</td>\n",
       "      <td>0.017529</td>\n",
       "      <td>-0.005131</td>\n",
       "      <td>-0.017672</td>\n",
       "      <td>0.040788</td>\n",
       "      <td>0.000307</td>\n",
       "    </tr>\n",
       "    <tr>\n",
       "      <th>350</th>\n",
       "      <td>30797.5</td>\n",
       "      <td>20321.967508</td>\n",
       "      <td>30768.5</td>\n",
       "      <td>632</td>\n",
       "      <td>61075</td>\n",
       "      <td>4.129824e+08</td>\n",
       "      <td>175.985714</td>\n",
       "      <td>116.125529</td>\n",
       "      <td>175.820000</td>\n",
       "      <td>3.611429</td>\n",
       "      <td>...</td>\n",
       "      <td>0.503782</td>\n",
       "      <td>0.010348</td>\n",
       "      <td>1.0</td>\n",
       "      <td>0.110715</td>\n",
       "      <td>-0.002151</td>\n",
       "      <td>0.011171</td>\n",
       "      <td>-0.006013</td>\n",
       "      <td>-0.007491</td>\n",
       "      <td>0.027471</td>\n",
       "      <td>0.000125</td>\n",
       "    </tr>\n",
       "    <tr>\n",
       "      <th>400</th>\n",
       "      <td>40367.4</td>\n",
       "      <td>26580.843725</td>\n",
       "      <td>40417.0</td>\n",
       "      <td>805</td>\n",
       "      <td>79800</td>\n",
       "      <td>7.065413e+08</td>\n",
       "      <td>201.837000</td>\n",
       "      <td>132.904219</td>\n",
       "      <td>202.085000</td>\n",
       "      <td>4.025000</td>\n",
       "      <td>...</td>\n",
       "      <td>0.506479</td>\n",
       "      <td>0.010088</td>\n",
       "      <td>1.0</td>\n",
       "      <td>0.110951</td>\n",
       "      <td>-0.004368</td>\n",
       "      <td>0.002589</td>\n",
       "      <td>-0.004024</td>\n",
       "      <td>-0.010269</td>\n",
       "      <td>-0.000562</td>\n",
       "      <td>0.000007</td>\n",
       "    </tr>\n",
       "    <tr>\n",
       "      <th>450</th>\n",
       "      <td>51055.4</td>\n",
       "      <td>33594.743839</td>\n",
       "      <td>51065.0</td>\n",
       "      <td>990</td>\n",
       "      <td>101025</td>\n",
       "      <td>1.128607e+09</td>\n",
       "      <td>226.912889</td>\n",
       "      <td>149.309973</td>\n",
       "      <td>226.955556</td>\n",
       "      <td>4.400000</td>\n",
       "      <td>...</td>\n",
       "      <td>0.505469</td>\n",
       "      <td>0.009800</td>\n",
       "      <td>1.0</td>\n",
       "      <td>0.110582</td>\n",
       "      <td>-0.003081</td>\n",
       "      <td>0.009349</td>\n",
       "      <td>-0.005547</td>\n",
       "      <td>-0.013879</td>\n",
       "      <td>0.017737</td>\n",
       "      <td>0.000087</td>\n",
       "    </tr>\n",
       "    <tr>\n",
       "      <th>500</th>\n",
       "      <td>62967.6</td>\n",
       "      <td>41561.813885</td>\n",
       "      <td>63191.5</td>\n",
       "      <td>1164</td>\n",
       "      <td>124750</td>\n",
       "      <td>1.727384e+09</td>\n",
       "      <td>251.870400</td>\n",
       "      <td>166.247256</td>\n",
       "      <td>252.766000</td>\n",
       "      <td>4.656000</td>\n",
       "      <td>...</td>\n",
       "      <td>0.506545</td>\n",
       "      <td>0.009331</td>\n",
       "      <td>1.0</td>\n",
       "      <td>0.110996</td>\n",
       "      <td>-0.001064</td>\n",
       "      <td>0.009634</td>\n",
       "      <td>-0.003377</td>\n",
       "      <td>-0.008150</td>\n",
       "      <td>0.023547</td>\n",
       "      <td>0.000093</td>\n",
       "    </tr>\n",
       "  </tbody>\n",
       "</table>\n",
       "<p>10 rows × 54 columns</p>\n",
       "</div>"
      ],
      "text/plain": [
       "          num_edges                                                     \\\n",
       "               mean           std   median   min     max           var   \n",
       "num_nodes                                                                \n",
       "50            623.2    404.943288    620.5    19    1225  1.639791e+05   \n",
       "100          2504.4   1654.990245   2509.5    37    4950  2.738993e+06   \n",
       "150          5654.5   3728.778628   5643.5   101   11175  1.390379e+07   \n",
       "200         10074.6   6625.624267  10122.5   218   19900  4.389890e+07   \n",
       "250         15730.6  10365.289461  15708.5   315   31125  1.074392e+08   \n",
       "300         22643.8  14951.401434  22678.0   440   44850  2.235444e+08   \n",
       "350         30797.5  20321.967508  30768.5   632   61075  4.129824e+08   \n",
       "400         40367.4  26580.843725  40417.0   805   79800  7.065413e+08   \n",
       "450         51055.4  33594.743839  51065.0   990  101025  1.128607e+09   \n",
       "500         62967.6  41561.813885  63191.5  1164  124750  1.727384e+09   \n",
       "\n",
       "          average_degree                                    ...   density  \\\n",
       "                    mean         std      median       min  ...    median   \n",
       "num_nodes                                                   ...             \n",
       "50             24.928000   16.197732   24.820000  0.760000  ...  0.506531   \n",
       "100            50.088000   33.099805   50.190000  0.740000  ...  0.506970   \n",
       "150            75.393333   49.717048   75.246667  1.346667  ...  0.505011   \n",
       "200           100.746000   66.256243  101.225000  2.180000  ...  0.508668   \n",
       "250           125.844800   82.922316  125.668000  2.520000  ...  0.504691   \n",
       "300           150.958667   99.676010  151.186667  2.933333  ...  0.505641   \n",
       "350           175.985714  116.125529  175.820000  3.611429  ...  0.503782   \n",
       "400           201.837000  132.904219  202.085000  4.025000  ...  0.506479   \n",
       "450           226.912889  149.309973  226.955556  4.400000  ...  0.505469   \n",
       "500           251.870400  166.247256  252.766000  4.656000  ...  0.506545   \n",
       "\n",
       "                                   assortativity_coefficient            \\\n",
       "                min  max       var                      mean       std   \n",
       "num_nodes                                                                \n",
       "50         0.015510  1.0  0.109274                  0.007638  0.131254   \n",
       "100        0.007475  1.0  0.111784                 -0.029997  0.035490   \n",
       "150        0.009038  1.0  0.111337                 -0.030634  0.033302   \n",
       "200        0.010955  1.0  0.110853                  0.000637  0.011862   \n",
       "250        0.010120  1.0  0.110903                 -0.007586  0.005397   \n",
       "300        0.009810  1.0  0.111132                 -0.002808  0.017529   \n",
       "350        0.010348  1.0  0.110715                 -0.002151  0.011171   \n",
       "400        0.010088  1.0  0.110951                 -0.004368  0.002589   \n",
       "450        0.009800  1.0  0.110582                 -0.003081  0.009349   \n",
       "500        0.009331  1.0  0.110996                 -0.001064  0.009634   \n",
       "\n",
       "                                                   \n",
       "             median       min       max       var  \n",
       "num_nodes                                          \n",
       "50        -0.040846 -0.066861  0.344828  0.017228  \n",
       "100       -0.019346 -0.110766  0.012692  0.001260  \n",
       "150       -0.015680 -0.103396 -0.008161  0.001109  \n",
       "200       -0.003528 -0.010337  0.020518  0.000141  \n",
       "250       -0.009314 -0.013150  0.001817  0.000029  \n",
       "300       -0.005131 -0.017672  0.040788  0.000307  \n",
       "350       -0.006013 -0.007491  0.027471  0.000125  \n",
       "400       -0.004024 -0.010269 -0.000562  0.000007  \n",
       "450       -0.005547 -0.013879  0.017737  0.000087  \n",
       "500       -0.003377 -0.008150  0.023547  0.000093  \n",
       "\n",
       "[10 rows x 54 columns]"
      ]
     },
     "metadata": {},
     "output_type": "display_data"
    }
   ],
   "source": [
    "custom_summary = df_ER.groupby(df_ER.columns[0]).agg(['mean', 'std', 'median', 'min', 'max','var'])\n",
    "display(custom_summary)"
   ]
  },
  {
   "cell_type": "markdown",
   "metadata": {},
   "source": [
    "### 2.2.2. Watts-Strogatz (WS) Networks"
   ]
  },
  {
   "cell_type": "markdown",
   "metadata": {},
   "source": [
    "The Watts-Strogatz (WS) model is a model for generating random graphs with small-world properties, such as a short average path length and high clustering. It was introduced by Duncan Watts and Steven Strogatz in their 1998 paper to explain the small-world phenomenon observed in many real-world networks.\n",
    "\n",
    "The model requires three primary parameters:\n",
    "\n",
    "1. N: number of nodes in the network.\n",
    "2. k: Each node is connected to \\( k \\) nearest neighbors in a ring topology. \\( k \\) is an even integer representing the degree of regular lattice nodes before rewiring - defining the initial structure of the network.\n",
    "3. p: The probability of rewiring each edge to a random node. \\( p = 0 \\) represents a ring lattice, and \\( p = 1 \\) means all edges are rewired, resulting in a random network.\n",
    "\n",
    "The network model is generated in the following steps:\n",
    "\n",
    "1. start with a regular ring lattice: a network of \\( N \\) nodes in which each node is connected to \\( k \\) nearest neighbors.\n",
    "2. for every node, take each edge and rewire it with probability \\( p \\). Rewiring means changing one of the nodes the edge is connected to, without loops (edges connecting a node to itself) or duplicate edges (multiple edges connecting the same pair of nodes).\n",
    "\n",
    "The resulting network will have small-world properties for certain ranges of \\( p \\), with a short average path length like a random graph but a much higher clustering coefficient."
   ]
  },
  {
   "cell_type": "code",
   "execution_count": 172,
   "metadata": {},
   "outputs": [],
   "source": [
    "node_range = np.linspace(100, 1000, 10) \n",
    "k = np.linspace(1,10,10)\n",
    "p_values = np.linspace(0.01, 1, 10)\n",
    "\n",
    "results = []\n",
    "\n",
    "for nodes in node_range:\n",
    "    nodes = int(nodes)\n",
    "    for k_i in k:\n",
    "        k_i = int(k_i+1)\n",
    "        for p in p_values:\n",
    "            #print(nodes, k_i, p)\n",
    "            G = nx.watts_strogatz_graph(nodes, k_i, p)\n",
    "            stats = compute_network_statistics(G)\n",
    "            results.append(stats)\n",
    "\n",
    "# convert to dataframe\n",
    "df_WS = pd.DataFrame(results)"
   ]
  },
  {
   "cell_type": "code",
   "execution_count": null,
   "metadata": {},
   "outputs": [],
   "source": [
    "node_range"
   ]
  },
  {
   "cell_type": "code",
   "execution_count": null,
   "metadata": {},
   "outputs": [],
   "source": [
    "custom_summary = df_WS.groupby(df_WS.columns[0]).agg(['mean', 'std', 'median', 'min', 'max','var'])\n",
    "display(custom_summary)"
   ]
  },
  {
   "cell_type": "code",
   "execution_count": null,
   "metadata": {},
   "outputs": [],
   "source": [
    "display(df_WS)"
   ]
  },
  {
   "cell_type": "markdown",
   "metadata": {},
   "source": [
    "### 2.2.3. Barabasi-Albert (BA)"
   ]
  },
  {
   "cell_type": "markdown",
   "metadata": {},
   "source": [
    "The Barabási-Albert (BA) model generates scale-free networks using a preferential attachment mechanism. \n",
    "To generate a Barabási-Albert network, you typically need two parameters:\n",
    "\n",
    "1. (`n`): The total number of nodes the final network will have.\n",
    "\n",
    "2. (`m`): Number of Edges to Attach from a New Node to Existing Nodes. Whenever a new node is added to the network, it will form `m` edges to existing nodes with a probability that is proportional to each existing node's current degree. This is what creates the \"preferential attachment\" dynamic. The value of `m` should be such that \\(1 \\leq m < n\\)."
   ]
  },
  {
   "cell_type": "code",
   "execution_count": 163,
   "metadata": {},
   "outputs": [],
   "source": [
    "node_range = np.linspace(100, 1000, 11) \n",
    "m = np.linspace(1,10,11)\n",
    "\n",
    "results = []\n",
    "\n",
    "for nodes in node_range:\n",
    "    nodes = int(nodes)\n",
    "    for m_i in m:\n",
    "        m_i = int(m_i+1)\n",
    "        G = nx.barabasi_albert_graph(nodes, m_i)\n",
    "        stats = compute_network_statistics(G)\n",
    "        results.append(stats)\n",
    "\n",
    "# convert to dataframe\n",
    "df_BA = pd.DataFrame(results)"
   ]
  },
  {
   "cell_type": "code",
   "execution_count": null,
   "metadata": {},
   "outputs": [],
   "source": [
    "display(df_BA)"
   ]
  },
  {
   "cell_type": "code",
   "execution_count": null,
   "metadata": {},
   "outputs": [],
   "source": [
    "custom_summary = df_BA.groupby(df_BA.columns[0]).agg(['mean', 'std', 'median', 'min', 'max','var'])\n",
    "display(custom_summary)\n"
   ]
  },
  {
   "cell_type": "markdown",
   "metadata": {},
   "source": [
    "## Problem 2.2.3"
   ]
  },
  {
   "cell_type": "code",
   "execution_count": null,
   "metadata": {},
   "outputs": [],
   "source": []
  }
 ],
 "metadata": {
  "kernelspec": {
   "display_name": "ABM",
   "language": "python",
   "name": "python3"
  },
  "language_info": {
   "codemirror_mode": {
    "name": "ipython",
    "version": 3
   },
   "file_extension": ".py",
   "mimetype": "text/x-python",
   "name": "python",
   "nbconvert_exporter": "python",
   "pygments_lexer": "ipython3",
   "version": "3.12.3"
  }
 },
 "nbformat": 4,
 "nbformat_minor": 2
}
